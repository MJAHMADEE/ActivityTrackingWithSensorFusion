{
 "cells": [
  {
   "cell_type": "code",
   "execution_count": 1,
   "metadata": {},
   "outputs": [],
   "source": [
    "import numpy as np\n",
    "import matplotlib\n",
    "from matplotlib import pyplot as plt\n",
    "from scipy import integrate\n",
    "from scipy import interpolate\n",
    "import math\n",
    "from scipy import signal\n",
    "%run StreamClass.ipynb"
   ]
  },
  {
   "cell_type": "markdown",
   "metadata": {},
   "source": [
    "## Perform butterworth low pass filtering, re integrate data and plot\n",
    "Frequency cutoff value is just an estimate"
   ]
  },
  {
   "cell_type": "code",
   "execution_count": 5,
   "metadata": {},
   "outputs": [
    {
     "name": "stdout",
     "output_type": "stream",
     "text": [
      "Parsed File\n",
      "Interpolated Samples\n",
      "Rotated Acceleration\n",
      "Integrated Acceleration\n"
     ]
    },
    {
     "name": "stderr",
     "output_type": "stream",
     "text": [
      "/home/hw16471/anaconda3/lib/python3.7/site-packages/scipy/signal/_arraytools.py:45: FutureWarning: Using a non-tuple sequence for multidimensional indexing is deprecated; use `arr[tuple(seq)]` instead of `arr[seq]`. In the future this will be interpreted as an array index, `arr[np.array(seq)]`, which will result either in an error or a different result.\n",
      "  b = a[a_slice]\n"
     ]
    }
   ],
   "source": [
    "data = Data_Stream(\"data5.csv\")\n",
    "def filter_acc(times, acc, T, fs, plot=False):\n",
    "    fs = data.frequency  # Sampling frequency\n",
    "    fc = 1  # Cut-off frequency of the filter\n",
    "    w = fc / (fs / 2) # Normalize the frequency\n",
    "\n",
    "    b, a = signal.butter(3, w, 'low') ##W is between 1 and 0, 1 is a perfect reconstruction, ie shannon nyquist\n",
    "\n",
    "    output = signal.filtfilt(b, a, acc.T)\n",
    "    if(plot):\n",
    "        plt.figure(figsize=(15, 6))\n",
    "        ax=plt.subplot(111)\n",
    "        plt.plot(times, acc, label='X')\n",
    "        plt.plot(times, output.T, label='filtered')\n",
    "        plt.legend()\n",
    "        plt.show()\n",
    "    return output.T\n",
    "\n",
    "\n",
    "data.acc_ERC[:, 1] = filter_acc(data.acc_ERC[:, 0], data.acc_ERC[:, 1], data.time_period, data.frequency)\n",
    "data.acc_ERC[:, 2] = filter_acc(data.acc_ERC[:, 0], data.acc_ERC[:, 2], data.time_period, data.frequency)\n",
    "data.acc_ERC[:, 3] = filter_acc(data.acc_ERC[:, 0], data.acc_ERC[:, 3], data.time_period, data.frequency)\n",
    "\n",
    "data.acc_DRC[:, 1] = filter_acc(data.acc_DRC[:, 0], data.acc_DRC[:, 1], data.time_period, data.frequency)\n",
    "data.acc_DRC[:, 2] = filter_acc(data.acc_DRC[:, 0], data.acc_DRC[:, 2], data.time_period, data.frequency)\n",
    "data.acc_DRC[:, 3] = filter_acc(data.acc_DRC[:, 0], data.acc_DRC[:, 3], data.time_period, data.frequency)\n",
    "\n"
   ]
  },
  {
   "cell_type": "code",
   "execution_count": 6,
   "metadata": {},
   "outputs": [],
   "source": [
    "data.integrate_variables()\n",
    "# data.plot()\n"
   ]
  },
  {
   "cell_type": "code",
   "execution_count": null,
   "metadata": {},
   "outputs": [],
   "source": []
  }
 ],
 "metadata": {
  "kernelspec": {
   "display_name": "Python 3",
   "language": "python",
   "name": "python3"
  },
  "language_info": {
   "codemirror_mode": {
    "name": "ipython",
    "version": 3
   },
   "file_extension": ".py",
   "mimetype": "text/x-python",
   "name": "python",
   "nbconvert_exporter": "python",
   "pygments_lexer": "ipython3",
   "version": "3.7.0"
  }
 },
 "nbformat": 4,
 "nbformat_minor": 2
}
