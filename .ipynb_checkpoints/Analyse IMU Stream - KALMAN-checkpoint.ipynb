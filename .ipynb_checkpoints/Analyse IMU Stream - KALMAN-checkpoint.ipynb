{
 "cells": [
  {
   "cell_type": "code",
   "execution_count": 31,
   "metadata": {},
   "outputs": [
    {
     "name": "stdout",
     "output_type": "stream",
     "text": [
      "[[96.         -2.59371322 51.450811  ]\n",
      " [93.         -2.59374641 51.45068318]\n",
      " [89.         -2.5938143  51.4505028 ]\n",
      " [85.         -2.59391606 51.45028948]\n",
      " [81.         -2.59406861 51.45007415]\n",
      " [78.         -2.59418068 51.44998111]\n",
      " [74.         -2.59444412 51.44991078]\n",
      " [71.         -2.59470999 51.44993392]\n",
      " [68.         -2.59495935 51.44999343]\n",
      " [64.         -2.59518064 51.45002939]\n",
      " [62.         -2.5952777  51.45003844]\n",
      " [58.         -2.59543    51.45004976]\n",
      " [57.         -2.59546462 51.45005235]\n",
      " [55.         -2.59554634 51.45007406]\n",
      " [50.         -2.59570467 51.45016249]\n",
      " [49.         -2.59570124 51.4502018 ]\n",
      " [45.         -2.59567081 51.45038537]\n",
      " [41.         -2.5956289  51.45057161]\n",
      " [37.         -2.59556981 51.45078963]\n",
      " [33.         -2.59550971 51.45099792]\n",
      " [29.         -2.59539756 51.45111275]\n",
      " [26.         -2.59522808 51.45109381]\n",
      " [21.         -2.59492046 51.45107335]\n",
      " [17.         -2.59467102 51.45106321]\n",
      " [13.         -2.59439894 51.45105617]\n",
      " [ 9.         -2.59412879 51.45104553]\n",
      " [ 5.         -2.5939081  51.45104217]\n",
      " [ 0.         -2.59382009 51.45104553]]\n"
     ]
    }
   ],
   "source": [
    "import numpy as np\n",
    "import matplotlib\n",
    "from matplotlib import pyplot as plt\n",
    "from scipy import integrate\n",
    "from scipy import interpolate\n",
    "import math\n",
    "from scipy import signal\n",
    "%run StreamClass.ipynb"
   ]
  },
  {
   "cell_type": "markdown",
   "metadata": {},
   "source": [
    "## Plot each variable on a graph"
   ]
  },
  {
   "cell_type": "code",
   "execution_count": 32,
   "metadata": {
    "scrolled": false
   },
   "outputs": [
    {
     "name": "stdout",
     "output_type": "stream",
     "text": [
      "Parsed File\n",
      "Interpolated Samples\n",
      "Rotated Acceleration\n",
      "Integrated Acceleration\n",
      "(4760, 4)\n"
     ]
    }
   ],
   "source": [
    "data = Data_Stream(\"data5.csv\")\n",
    "print(data.acc_DRC.shape)\n",
    "# data.plot()"
   ]
  },
  {
   "cell_type": "markdown",
   "metadata": {},
   "source": [
    "## Kalman Filter Implementation"
   ]
  },
  {
   "cell_type": "code",
   "execution_count": 69,
   "metadata": {},
   "outputs": [],
   "source": [
    "def getQ(acc_stddev, dt):\n",
    "    vel_stddev = acc_stddev*dt\n",
    "    dis_stddev = 0.5*acc_stddev*dt**2\n",
    "    Q = (dis_stddev**2)*np.identity(4)\n",
    "    Q[2, 2] = vel_stddev**2\n",
    "    Q[3, 3] = vel_stddev**2\n",
    "    Q[0, 2] = dis_stddev*vel_stddev\n",
    "    Q[1, 3] = dis_stddev*vel_stddev\n",
    "    return Q\n",
    "\n",
    "def getFkBk(Fk, Bk, dt):\n",
    "    Fk[0, 2] = dt\n",
    "    Fk[1, 3] = dt\n",
    "    Bk[0, 0] = 0.5*dt**2\n",
    "    Bk[1, 1] = 0.5*dt**2\n",
    "    Bk[2, 0] = dt\n",
    "    Bk[3, 1] = dt\n",
    "    return Fk, Bk\n",
    "\n",
    "def kalman_predict(dt, Fk, Bk, xk, uk, Pk, acc_stddev):\n",
    "    Q = getQ(acc_stddev, dt)\n",
    "    Fk, Bk = getFkBk(Fk, Bk, dt)\n",
    "    xk = np.matmul(Fk, xk) + np.matmul(Bk, uk)\n",
    "    Pk = np.matmul(np.matmul(Fk, Pks[-1]), Fk.T) + Q\n",
    "    return xk, Pk, Fk, Bk\n",
    "\n",
    "def kalman_gain(Pk, H, R):\n",
    "    PkHT = np.matmul(Pk, H.T)\n",
    "    K = np.matmul(PkHT, np.linalg.inv(np.matmul(H, PkHT)+R))\n",
    "    return K\n",
    "\n",
    "def kalman_update_state(xk, zk, K, H):\n",
    "    Hxk = np.matmul(H, xk)\n",
    "    zk = np.concatenate((zk, np.asmatrix([0])))\n",
    "    zk = np.concatenate((zk, np.asmatrix([0])))\n",
    "    return xk+np.matmul(K, zk-Hxk )\n",
    "\n",
    "def kalman_update_uncertainty(Pk, K, H):\n",
    "    return Pk - np.matmul(K, np.matmul(H, Pk))\n",
    "\n",
    "def reverse_data(acc, gps):\n",
    "    \n",
    "    end_time = acc[-1, 0]\n",
    "    acc = acc[::-1]\n",
    "    gps = gps[::-1]\n",
    "    \n",
    "    for i in range(len(acc)):\n",
    "        acc[i] = -1*acc[i]\n",
    "        acc[i, 0] += end_time\n",
    "        gps[i, 0] = acc[i, 0]\n",
    "        \n",
    "    return acc, gps\n",
    "\n",
    "def compute_kalman(data, reverse=False):\n",
    "    ## Assume that the initial state is position (0, 0) and velocity (0, 0)       \n",
    "    acc = data.acc_ERC\n",
    "    gps = data.gps\n",
    "    \n",
    "    if(reverse):\n",
    "        acc, gps = reverse_data(acc, gps)\n",
    "\n",
    "    x0 = np.asmatrix([0, 0, 0, 0]).T\n",
    "    xks = [x0]\n",
    "    u0 = acc[0, 1:3].T\n",
    "    uks = [u0]\n",
    "    Fk = np.asmatrix(np.identity(4))\n",
    "    Bk = np.zeros((4, 2))\n",
    "\n",
    "    acc_stddev = 0.6\n",
    "\n",
    "    P0 = np.zeros((4, 4))\n",
    "    Pks = [P0]\n",
    "\n",
    "    H = np.identity(4)\n",
    "    H[2, 2] = 0.0\n",
    "    H[3, 3] = 0.0\n",
    "    gps_var = 15.2\n",
    "    R = gps_var*np.identity(4)\n",
    "    \n",
    "    for i in range(1, acc.shape[0]):\n",
    "        dt = acc[i, 0] - acc[i-1, 0]\n",
    "        xk, Pk, Fk, Bk = kalman_predict(dt, Fk, Bk, xks[-1], uks[-1], Pks[-1], acc_stddev)\n",
    "        xks.append(xk)\n",
    "        uks.append(acc[i, 1:3].T)\n",
    "        Pks.append(Pk)\n",
    "        zk = gps[i, 1:3].T\n",
    "\n",
    "        K = kalman_gain(Pks[-1], H, R)\n",
    "        xks[-1] = kalman_update_state(xk, zk, K, H)\n",
    "        Pks[-1] = kalman_update_uncertainty(Pks[-1], K, H)\n",
    "        \n",
    "    xks = [xk.T for xk in xks]\n",
    "    xks = np.concatenate(xks)\n",
    "    data.init_kalman(xks, reverse)"
   ]
  },
  {
   "cell_type": "code",
   "execution_count": 70,
   "metadata": {
    "scrolled": false
   },
   "outputs": [
    {
     "name": "stdout",
     "output_type": "stream",
     "text": [
      "Parsed File\n",
      "Interpolated Samples\n",
      "Rotated Acceleration\n",
      "Integrated Acceleration\n"
     ]
    },
    {
     "data": {
      "text/plain": [
       "<matplotlib.legend.Legend at 0x7fbb6edf1160>"
      ]
     },
     "execution_count": 70,
     "metadata": {},
     "output_type": "execute_result"
    },
    {
     "data": {
      "image/png": "[encoded data removed]",
      "text/plain": [
       "<Figure size 432x288 with 1 Axes>"
      ]
     },
     "metadata": {
      "needs_background": "light"
     },
     "output_type": "display_data"
    }
   ],
   "source": [
    "data = Data_Stream(\"data5.csv\", load_truth=True)\n",
    "compute_kalman(data)\n",
    "compute_kalman(data, reverse=True)\n",
    "\n",
    "        plt.figure(figsize=(15, 20))\n",
    "\n",
    "ax=plt.subplot(121)\n",
    "plt.plot(data.kal_dis[:, 1], data.kal_dis[:, 2], 'r-', lw=1, label='X')\n",
    "plt.plot(data.kal_dis_reverse[:, 1], data.kal_dis_reverse[:, 2], 'b-', lw=1, label='X')\n",
    "plt.title(\"Displacement Forward(Red) and Backward(Blue)\") ##Proof that values are reversed, should be -9.8 its 9.8\n",
    "ax.legend()"
   ]
  },
  {
   "cell_type": "markdown",
   "metadata": {},
   "source": [
    "Plot Kalman Filter output against original Sensor Input"
   ]
  },
  {
   "cell_type": "markdown",
   "metadata": {},
   "source": [
    "## Plotting Overlay on Google Maps\n",
    "https://www.geeksforgeeks.org/python-plotting-google-map-using-gmplot-package/\n",
    "\n",
    "https://github.com/pbugnion/gmaps\n",
    "\n",
    "https://jupyter-gmaps.readthedocs.io/en/latest/"
   ]
  },
  {
   "cell_type": "code",
   "execution_count": 63,
   "metadata": {},
   "outputs": [],
   "source": [
    "import gmaps\n",
    "import gmaps.datasets\n",
    "\n",
    "f = open('apikey.txt')\n",
    "a = f.readline()\n",
    "\n",
    "gmaps.configure(api_key=a) # Your Google API key\n",
    "\n",
    "f_layout = {'width': '900px','height': '800px','border': '1px solid black', 'padding': '1px'}\n",
    "fig = gmaps.figure(layout = f_layout, center=(data.kal_latlng[0, 2], \n",
    "                                              data.kal_latlng[0, 1]), zoom_level=18, map_type='HYBRID')\n",
    "lines = []\n",
    "\n",
    "locations_kal = gmaps.heatmap_layer([(i[0, 2], i[0, 1]) for i in data.kal_latlng])\n",
    "locations_kal.gradient = [(0, 0, 0, 0.0), (0, 255, 0, 1), (0, 128, 0, 1)]\n",
    "locations_kal.max_intensity = 10\n",
    "locations_kal.point_radius = 5\n",
    "\n",
    "locations_kal_rev = gmaps.heatmap_layer([(i[0, 2], i[0, 1]) for i in data.kal_latlng_reverse])\n",
    "locations_kal_rev.gradient = [(0, 0, 0, 0.0), (255, 0, 255, 1), (128, 0, 128, 1)]\n",
    "locations_kal_rev.max_intensity = 10\n",
    "locations_kal_rev.point_radius = 5\n",
    "\n",
    "locations_gps = gmaps.heatmap_layer([(i[0, 2], i[0, 1]) for i in data.gps_latlng])\n",
    "locations_gps.gradient = [(0, 0, 0, 0.0), (255, 0, 0, 1), (128, 0, 0 , 1)]\n",
    "locations_gps.max_intensity = 10\n",
    "locations_gps.point_radius = 5\n",
    "\n",
    "# locations_gt = gmaps.heatmap_layer([(i[0, 2], i[0, 1]) for i in data.ground_truth.gps])\n",
    "# locations_gt.gradient = [(0, 0, 0, 0.0), (0, 0, 255, 1), (0, 0, 128 , 1)]\n",
    "# locations_gt.max_intensity = 20\n",
    "# locations_gt.point_radius = 5\n",
    "\n",
    "# Features to draw on the map\n",
    "gt_lines = []\n",
    "for i in range(1, len(data.ground_truth.gps)):\n",
    "    gt_lines.append(gmaps.Line(start= (data.ground_truth.gps[i-1, 2], data.ground_truth.gps[i-1, 1]), \n",
    "                               end  = (data.ground_truth.gps[i  , 2], data.ground_truth.gps[i, 1]), \n",
    "                               stroke_weight = 3.0, stroke_color = 'Blue'))\n",
    "\n",
    "gt_lines = gmaps.drawing_layer(features=gt_lines)\n"
   ]
  },
  {
   "cell_type": "code",
   "execution_count": 64,
   "metadata": {},
   "outputs": [
    {
     "data": {
      "application/vnd.jupyter.widget-view+json": {
       "model_id": "33f09bd80ed74ec08b6d1b9aa31b0fda",
       "version_major": 2,
       "version_minor": 0
      },
      "text/plain": [
       "Figure(layout=FigureLayout(border='1px solid black', height='800px', padding='1px', width='900px'))"
      ]
     },
     "metadata": {},
     "output_type": "display_data"
    }
   ],
   "source": [
    "fig.add_layer(locations_kal_rev)\n",
    "fig.add_layer(locations_kal)\n",
    "fig.add_layer(locations_gps)\n",
    "fig.add_layer(gt_lines)\n",
    "fig"
   ]
  },
  {
   "cell_type": "code",
   "execution_count": null,
   "metadata": {},
   "outputs": [],
   "source": []
  },
  {
   "cell_type": "code",
   "execution_count": null,
   "metadata": {},
   "outputs": [],
   "source": []
  }
 ],
 "metadata": {
  "kernelspec": {
   "display_name": "Python 3",
   "language": "python",
   "name": "python3"
  },
  "language_info": {
   "codemirror_mode": {
    "name": "ipython",
    "version": 3
   },
   "file_extension": ".py",
   "mimetype": "text/x-python",
   "name": "python",
   "nbconvert_exporter": "python",
   "pygments_lexer": "ipython3",
   "version": "3.7.0"
  }
 },
 "nbformat": 4,
 "nbformat_minor": 2
}
