{
 "cells": [
  {
   "cell_type": "code",
   "execution_count": 1,
   "metadata": {},
   "outputs": [],
   "source": [
    "%%capture\n",
    "import numpy as np\n",
    "import matplotlib\n",
    "from matplotlib import pyplot as plt\n",
    "from scipy import integrate\n",
    "from scipy import interpolate\n",
    "import math\n",
    "import sys\n",
    "from scipy import signal\n",
    "import pandas as pd\n",
    "import tensorflow as tf\n",
    "from numba import cuda\n",
    "import numba\n",
    "import os\n",
    "from sklearn.preprocessing import MinMaxScaler\n",
    "from IPython.display import display, HTML\n",
    "%run KalmanFilter.ipynb\n",
    "import mpld3\n",
    "mpld3.enable_notebook()\n"
   ]
  },
  {
   "cell_type": "code",
   "execution_count": 2,
   "metadata": {},
   "outputs": [],
   "source": [
    "# from tf.keras.models import Sequential  # This does not work!\n",
    "from tensorflow.python.keras.models import Sequential\n",
    "from tensorflow.python.keras.layers import Input, Dense, GRU, Embedding\n",
    "from tensorflow.python.keras.optimizers import RMSprop\n",
    "from tensorflow.python.keras.callbacks import EarlyStopping, ModelCheckpoint, TensorBoard, ReduceLROnPlateau\n",
    "from tensorflow.python.keras import backend as K \n",
    "from IPython.display import clear_output\n",
    "from tensorflow.python.keras.initializers import RandomUniform\n",
    "# tf.enable_eager_execution()"
   ]
  },
  {
   "cell_type": "markdown",
   "metadata": {},
   "source": [
    "## Load DataStream and Ground Truth\n",
    "As no reliable ground truth currently, using Kalman Filter results. Note: Ground truth must currently have the same timesteps as the input.\n",
    "\n",
    "https://github.com/Hvass-Labs/TensorFlow-Tutorials/blob/master/23_Time-Series-Prediction.ipynb"
   ]
  },
  {
   "cell_type": "code",
   "execution_count": 3,
   "metadata": {
    "scrolled": false
   },
   "outputs": [
    {
     "name": "stdout",
     "output_type": "stream",
     "text": [
      "Parsed File\n",
      "Freq. of Acceleration 190.0300697928473\n",
      "Freq. of Lin. Acceleration 49.00211454776328\n",
      "Freq. of Gyroscope 52.67300802601869\n",
      "Loaded Ground Truth\n",
      "Interpolated Samples\n",
      "Rotated Acceleration\n",
      "Integrated Acceleration\n"
     ]
    }
   ],
   "source": [
    "# %load_ext line_profiler\n",
    "# %lprun -T lprof0 -f Data_Stream.__init__ Data_Stream('uni.csv')\n",
    "# %cat lprof0\n",
    "\n",
    "data = Data_Stream('data5.csv', load_truth=True)\n",
    "\n",
    "\n",
    "compute_kalman(data)\n",
    "\n",
    "\n"
   ]
  },
  {
   "cell_type": "code",
   "execution_count": null,
   "metadata": {
    "scrolled": false
   },
   "outputs": [],
   "source": [
    "# %matplotlib notebook\n",
    "\n",
    "plt.figure(figsize=(9, 8))\n",
    "ax=plt.subplot(111)\n",
    "colors = ['b-', 'g-', 'r-', 'c-', 'm-', 'y-', 'k-']\n",
    "\n",
    "step = 1000\n",
    "\n",
    "for i in range (0, len(data.gps), step):\n",
    "    upper_lim = int((i+step)/step)*step\n",
    "    lower_lim = int(i/step)*step\n",
    "    \n",
    "    plt.plot(data.gps[lower_lim:upper_lim, 1], data.gps[lower_lim:upper_lim, 2], \n",
    "             colors[int(i/step)%7], ms=0.1) ##\n",
    "    # plt.plot(data.kal_dis[:, 1], data.kal_dis[:, 2], 'g-', lw=1, label='Kalman or Training Labels') ##Training Labels\n",
    "    plt.plot(data.ground_truth.dis[lower_lim:upper_lim, 1], data.ground_truth.dis[lower_lim:upper_lim, 2], \n",
    "             colors[int(i/step)%7], ms=0.1) ##Training Labels\n",
    "plt.title(\"Plotting GPS Displacement and Ground Truth\") \n",
    "# ax.legend()"
   ]
  },
  {
   "cell_type": "code",
   "execution_count": null,
   "metadata": {},
   "outputs": [],
   "source": [
    "def correct_ground_truth(data):\n",
    "    ground_truth = data.ground_truth.dis[:, 1:3]\n",
    "    gps = data.gps[:, 1:3]\n",
    "    \n",
    "    \n",
    "    \n",
    "    def closest_ground_truth_point(x):\n",
    "        check_step = 100\n",
    "        ground_truth_steps = ground_truth[::check_step]\n",
    "        distance_vectors = ground_truth_steps - x\n",
    "        magnitudes = np.linalg.norm(distance_vectors, ord = 2, axis = 1)\n",
    "        \n",
    "        min_step_index = np.argmin(magnitudes)\n",
    "        if ( (min_step_index > 0 and min_step_index < len(ground_truth_steps)*check_step)  or \n",
    "              magnitudes[min_step_index+1] < magnitudes[min_step_index-1]):\n",
    "            interval = ground_truth[min_step_index*check_step : (min_step_index+1)*check_step]\n",
    "            distance_vectors = interval - x\n",
    "            magnitudes = np.linalg.norm(distance_vectors, ord = 2, axis = 1)\n",
    "            return min_step_index*check_step + np.argmin(magnitudes)\n",
    "        else:\n",
    "            interval = ground_truth[(min_step_index-1)*check_step : min_step_index*check_step]\n",
    "            distance_vectors = interval - x\n",
    "            magnitudes = np.linalg.norm(distance_vectors, ord = 2, axis = 1)\n",
    "            return (min_step_index-1)*check_step + np.argmin(magnitudes)\n",
    "    \n",
    "    \n",
    "#     closest_indexes =  np.apply_along_axis(closest_ground_truth_point, axis = 1, arr = gps)\n",
    "#     new_ground_truth = np.concatenate([ground_truth[i] for i in closest_indexes])\n",
    "    \n",
    "    for i in range(len(gps)):\n",
    "        closest_index = closest_ground_truth_point(gps[i])\n",
    "        ground_truth[i] = ground_truth[closest_index]\n",
    "    \n",
    "    data.ground_truth.dis[:, 1:3] = ground_truth\n",
    "#     new_ground_truth = np.asmatrix([)\n",
    "    \n",
    "correct_ground_truth(data)\n"
   ]
  },
  {
   "cell_type": "code",
   "execution_count": null,
   "metadata": {},
   "outputs": [],
   "source": [
    "# %matplotlib notebook\n",
    "\n",
    "plt.figure(figsize=(9, 8))\n",
    "ax=plt.subplot(111)\n",
    "colors = ['b-', 'g-', 'r-', 'c-', 'm-', 'y-', 'k-']\n",
    "step = 1000\n",
    "\n",
    "for i in range (0, len(data.gps), step):\n",
    "    upper_lim = int((i+step)/step)*step\n",
    "    lower_lim = int(i/step)*step\n",
    "    \n",
    "    plt.plot(data.gps[lower_lim:upper_lim, 1], data.gps[lower_lim:upper_lim, 2], \n",
    "             colors[int(i/step)%7], ms=0.1) ##\n",
    "    # plt.plot(data.kal_dis[:, 1], data.kal_dis[:, 2], 'g-', lw=1, label='Kalman or Training Labels') ##Training Labels\n",
    "    plt.plot(data.ground_truth.dis[lower_lim:upper_lim, 1], data.ground_truth.dis[lower_lim:upper_lim, 2], \n",
    "             colors[int(i/step)%7], ms=0.1) ##Training Labels\n",
    "plt.title(\"Plotting GPS Displacement and Ground Truth\") "
   ]
  },
  {
   "cell_type": "markdown",
   "metadata": {},
   "source": [
    "### Get input data and correct labels in the right form\n",
    "\n",
    "Parameter for choosing whether how much of data stream is training/test data"
   ]
  },
  {
   "cell_type": "code",
   "execution_count": 11,
   "metadata": {},
   "outputs": [
    {
     "name": "stdout",
     "output_type": "stream",
     "text": [
      "X Dim:  5\n"
     ]
    }
   ],
   "source": [
    "def create_input_and_output(data, just_acc=False):\n",
    "    ## Needed Data\n",
    "    gps = data.gps[:, 1:3]\n",
    "    acc = data.acc_ERC[:, 1:3]\n",
    "    vel = data.vel_ERC[:, 1:3]\n",
    "    mag = data.mag[:, 1:3]\n",
    "    gyro = data.gyro[:, 1:4]\n",
    "\n",
    "    time_series = data.acc_ERC[:, 0]\n",
    "#     ground_truth = data.kal_dis[:, 1:3]\n",
    "    ground_truth = data.ground_truth.dis[:, 1:3]\n",
    "    delta_time = np.diff(time_series, axis=0)\n",
    "    delta_time = np.concatenate(([[0]], delta_time))\n",
    "\n",
    "    # Choose which data to include in input\n",
    "    if (just_acc):\n",
    "        input_data = np.concatenate((gps, acc, delta_time), axis=1)\n",
    "    else:\n",
    "        input_data = np.concatenate((gps, acc, delta_time), axis=1)\n",
    "    return input_data, ground_truth\n",
    "\n",
    "## Split data for training and testing\n",
    "input_data, ground_truth = create_input_and_output(data)\n",
    "x_dim = input_data.shape[1]\n",
    "y_dim = ground_truth.shape[1]\n",
    "print(\"X Dim: \", x_dim)\n",
    "\n",
    "num_train = int(0.70*input_data.shape[0])\n",
    "num_test = input_data.shape[0] - num_train\n",
    "\n",
    "training_data   = input_data[:num_train, :]\n",
    "training_labels = ground_truth[:num_train, :]\n",
    "\n",
    "test_data     = input_data[num_train:, :]\n",
    "test_labels   = ground_truth[num_train:, :]"
   ]
  },
  {
   "cell_type": "markdown",
   "metadata": {},
   "source": [
    "### Print Data with Pandas"
   ]
  },
  {
   "cell_type": "code",
   "execution_count": 12,
   "metadata": {
    "scrolled": false
   },
   "outputs": [
    {
     "name": "stdout",
     "output_type": "stream",
     "text": [
      "Training Data\n"
     ]
    },
    {
     "data": {
      "text/html": [
       "<div>\n",
       "<style scoped>\n",
       "    .dataframe tbody tr th:only-of-type {\n",
       "        vertical-align: middle;\n",
       "    }\n",
       "\n",
       "    .dataframe tbody tr th {\n",
       "        vertical-align: top;\n",
       "    }\n",
       "\n",
       "    .dataframe thead th {\n",
       "        text-align: right;\n",
       "    }\n",
       "</style>\n",
       "<table border=\"1\" class=\"dataframe\">\n",
       "  <thead>\n",
       "    <tr style=\"text-align: right;\">\n",
       "      <th></th>\n",
       "      <th>GPS X</th>\n",
       "      <th>GPS Y</th>\n",
       "      <th>Acc X</th>\n",
       "      <th>Acc Y</th>\n",
       "      <th>Delta Time</th>\n",
       "      <th>Ground Truth X</th>\n",
       "      <th>Ground_Truth Y</th>\n",
       "    </tr>\n",
       "  </thead>\n",
       "  <tbody>\n",
       "    <tr>\n",
       "      <th>0</th>\n",
       "      <td>0.0</td>\n",
       "      <td>0.0</td>\n",
       "      <td>0.153295</td>\n",
       "      <td>0.062256</td>\n",
       "      <td>0.00000</td>\n",
       "      <td>0.0</td>\n",
       "      <td>0.0</td>\n",
       "    </tr>\n",
       "    <tr>\n",
       "      <th>1</th>\n",
       "      <td>0.0</td>\n",
       "      <td>0.0</td>\n",
       "      <td>-0.079423</td>\n",
       "      <td>-0.222568</td>\n",
       "      <td>0.08066</td>\n",
       "      <td>0.0</td>\n",
       "      <td>0.0</td>\n",
       "    </tr>\n",
       "    <tr>\n",
       "      <th>2</th>\n",
       "      <td>0.0</td>\n",
       "      <td>0.0</td>\n",
       "      <td>0.230582</td>\n",
       "      <td>-0.702198</td>\n",
       "      <td>0.06051</td>\n",
       "      <td>0.0</td>\n",
       "      <td>0.0</td>\n",
       "    </tr>\n",
       "    <tr>\n",
       "      <th>3</th>\n",
       "      <td>0.0</td>\n",
       "      <td>0.0</td>\n",
       "      <td>0.174724</td>\n",
       "      <td>-0.991603</td>\n",
       "      <td>0.08069</td>\n",
       "      <td>0.0</td>\n",
       "      <td>0.0</td>\n",
       "    </tr>\n",
       "    <tr>\n",
       "      <th>4</th>\n",
       "      <td>0.0</td>\n",
       "      <td>0.0</td>\n",
       "      <td>0.568980</td>\n",
       "      <td>-0.714298</td>\n",
       "      <td>0.08066</td>\n",
       "      <td>0.0</td>\n",
       "      <td>0.0</td>\n",
       "    </tr>\n",
       "  </tbody>\n",
       "</table>\n",
       "</div>"
      ],
      "text/plain": [
       "   GPS X  GPS Y     Acc X     Acc Y  Delta Time  Ground Truth X  \\\n",
       "0    0.0    0.0  0.153295  0.062256     0.00000             0.0   \n",
       "1    0.0    0.0 -0.079423 -0.222568     0.08066             0.0   \n",
       "2    0.0    0.0  0.230582 -0.702198     0.06051             0.0   \n",
       "3    0.0    0.0  0.174724 -0.991603     0.08069             0.0   \n",
       "4    0.0    0.0  0.568980 -0.714298     0.08066             0.0   \n",
       "\n",
       "   Ground_Truth Y  \n",
       "0             0.0  \n",
       "1             0.0  \n",
       "2             0.0  \n",
       "3             0.0  \n",
       "4             0.0  "
      ]
     },
     "metadata": {},
     "output_type": "display_data"
    },
    {
     "data": {
      "text/plain": [
       "<matplotlib.axes._subplots.AxesSubplot at 0x7f18c5d0b940>"
      ]
     },
     "execution_count": 12,
     "metadata": {},
     "output_type": "execute_result"
    },
    {
     "data": {
      "image/png": "[encoded data removed]",
      "text/plain": [
       "<Figure size 1440x720 with 1 Axes>"
      ]
     },
     "metadata": {
      "needs_background": "light"
     },
     "output_type": "display_data"
    }
   ],
   "source": [
    "if(False):\n",
    "    training_frame = pd.DataFrame(np.concatenate((training_data, training_labels), axis=1), \n",
    "                                                 columns=['GPS X', 'GPS Y', 'Acc X', 'Acc Y', \n",
    "                                                          'Delta Time', 'Ground Truth X', 'Ground_Truth Y'])\n",
    "else:\n",
    "    training_frame = pd.DataFrame(np.concatenate((training_data, training_labels), axis=1), \n",
    "                                                 columns=['GPS X', 'GPS Y', 'Acc X', 'Acc Y',\n",
    "#                                                           'Vel X', 'Vel Y',\n",
    "#                                                           'Mag X', 'Mag Y',\n",
    "#                                                           'Gyro X', 'Gyro Y', 'Gyro Z',\n",
    "                                                          'Delta Time', 'Ground Truth X', 'Ground_Truth Y'])\n",
    "print(\"Training Data\")\n",
    "display(training_frame.head(5))\n",
    "training_frame.plot(figsize=(20,10))"
   ]
  },
  {
   "cell_type": "code",
   "execution_count": 13,
   "metadata": {},
   "outputs": [
    {
     "name": "stdout",
     "output_type": "stream",
     "text": [
      "Testing Data\n"
     ]
    },
    {
     "data": {
      "text/html": [
       "<div>\n",
       "<style scoped>\n",
       "    .dataframe tbody tr th:only-of-type {\n",
       "        vertical-align: middle;\n",
       "    }\n",
       "\n",
       "    .dataframe tbody tr th {\n",
       "        vertical-align: top;\n",
       "    }\n",
       "\n",
       "    .dataframe thead th {\n",
       "        text-align: right;\n",
       "    }\n",
       "</style>\n",
       "<table border=\"1\" class=\"dataframe\">\n",
       "  <thead>\n",
       "    <tr style=\"text-align: right;\">\n",
       "      <th></th>\n",
       "      <th>GPS X</th>\n",
       "      <th>GPS Y</th>\n",
       "      <th>Acc X</th>\n",
       "      <th>Acc Y</th>\n",
       "      <th>Delta Time</th>\n",
       "      <th>Ground Truth X</th>\n",
       "      <th>Ground_Truth Y</th>\n",
       "    </tr>\n",
       "  </thead>\n",
       "  <tbody>\n",
       "    <tr>\n",
       "      <th>0</th>\n",
       "      <td>-87.051337</td>\n",
       "      <td>-117.664019</td>\n",
       "      <td>-2.085244</td>\n",
       "      <td>-0.693110</td>\n",
       "      <td>0.06052</td>\n",
       "      <td>-81.445211</td>\n",
       "      <td>-117.086139</td>\n",
       "    </tr>\n",
       "    <tr>\n",
       "      <th>1</th>\n",
       "      <td>-85.734695</td>\n",
       "      <td>-117.815939</td>\n",
       "      <td>1.029171</td>\n",
       "      <td>-1.102225</td>\n",
       "      <td>0.16134</td>\n",
       "      <td>-81.445211</td>\n",
       "      <td>-117.086139</td>\n",
       "    </tr>\n",
       "    <tr>\n",
       "      <th>2</th>\n",
       "      <td>-85.240811</td>\n",
       "      <td>-117.872926</td>\n",
       "      <td>-0.644047</td>\n",
       "      <td>-0.382554</td>\n",
       "      <td>0.06052</td>\n",
       "      <td>-81.445211</td>\n",
       "      <td>-117.086139</td>\n",
       "    </tr>\n",
       "    <tr>\n",
       "      <th>3</th>\n",
       "      <td>-84.582816</td>\n",
       "      <td>-117.948848</td>\n",
       "      <td>0.111874</td>\n",
       "      <td>-0.094576</td>\n",
       "      <td>0.08063</td>\n",
       "      <td>-81.445211</td>\n",
       "      <td>-117.086139</td>\n",
       "    </tr>\n",
       "    <tr>\n",
       "      <th>4</th>\n",
       "      <td>-84.088688</td>\n",
       "      <td>-118.005863</td>\n",
       "      <td>-0.686390</td>\n",
       "      <td>0.371171</td>\n",
       "      <td>0.06055</td>\n",
       "      <td>-81.445211</td>\n",
       "      <td>-117.086139</td>\n",
       "    </tr>\n",
       "  </tbody>\n",
       "</table>\n",
       "</div>"
      ],
      "text/plain": [
       "       GPS X       GPS Y     Acc X     Acc Y  Delta Time  Ground Truth X  \\\n",
       "0 -87.051337 -117.664019 -2.085244 -0.693110     0.06052      -81.445211   \n",
       "1 -85.734695 -117.815939  1.029171 -1.102225     0.16134      -81.445211   \n",
       "2 -85.240811 -117.872926 -0.644047 -0.382554     0.06052      -81.445211   \n",
       "3 -84.582816 -117.948848  0.111874 -0.094576     0.08063      -81.445211   \n",
       "4 -84.088688 -118.005863 -0.686390  0.371171     0.06055      -81.445211   \n",
       "\n",
       "   Ground_Truth Y  \n",
       "0     -117.086139  \n",
       "1     -117.086139  \n",
       "2     -117.086139  \n",
       "3     -117.086139  \n",
       "4     -117.086139  "
      ]
     },
     "metadata": {},
     "output_type": "display_data"
    }
   ],
   "source": [
    "if(False):\n",
    "    test_frame = pd.DataFrame(np.concatenate((test_data, test_labels), axis=1), \n",
    "                                                 columns=['GPS X', 'GPS Y', 'Acc X', 'Acc Y', \n",
    "                                                          'Delta Time', 'Ground Truth X', 'Ground_Truth Y'])\n",
    "else:\n",
    "    test_frame = pd.DataFrame(np.concatenate((test_data, test_labels), axis=1), \n",
    "                                                 columns=['GPS X', 'GPS Y', 'Acc X', 'Acc Y',\n",
    "#                                                           'Vel X', 'Vel Y',\n",
    "#                                                           'Mag X', 'Mag Y',\n",
    "#                                                           'Gyro X', 'Gyro Y', 'Gyro Z',\n",
    "                                                          'Delta Time', 'Ground Truth X', 'Ground_Truth Y'])\n",
    "print(\"Testing Data\")\n",
    "display(test_frame.head(5))\n",
    "# test_frame.plot(figsize=(20,10))\n"
   ]
  },
  {
   "cell_type": "markdown",
   "metadata": {},
   "source": [
    "### Create Scaling Object to Scale down data to between 0 and 1"
   ]
  },
  {
   "cell_type": "code",
   "execution_count": 14,
   "metadata": {},
   "outputs": [
    {
     "name": "stdout",
     "output_type": "stream",
     "text": [
      "[[ 5000.  5000.  5000.  5000.  5000.]\n",
      " [-5000. -5000. -5000. -5000. -5000.]]\n",
      "Min:  -214.8453708899888  Max:  0.5565942237019864\n",
      "Min:  0.4785154629110011  Max:  0.5000556594223702\n"
     ]
    }
   ],
   "source": [
    "x_scaler = MinMaxScaler()\n",
    "custom_scale_matrix = np.zeros((2, x_dim))\n",
    "custom_scale_matrix.fill(5000)\n",
    "custom_scale_matrix[1, :] = -custom_scale_matrix[1 , :]\n",
    "print(custom_scale_matrix)\n",
    "\n",
    "x_scaler = x_scaler.fit(custom_scale_matrix)\n",
    "\n",
    "scaled_training_data = x_scaler.transform(training_data)\n",
    "scaled_test_data = x_scaler.transform(test_data)\n",
    "\n",
    "print(\"Min: \", np.min(training_data[:, 0]), \" Max: \", np.max(training_data[:, 0]))\n",
    "print(\"Min: \", np.min(scaled_training_data[:, 0]), \" Max: \", np.max(scaled_training_data[:, 0]))\n",
    "\n"
   ]
  },
  {
   "cell_type": "code",
   "execution_count": 15,
   "metadata": {},
   "outputs": [
    {
     "name": "stdout",
     "output_type": "stream",
     "text": [
      "Min:  -212.09553000579172  Max:  11.96725222541849\n",
      "Min:  0.4787904469994208  Max:  0.5011967252225419\n"
     ]
    }
   ],
   "source": [
    "y_scaler = MinMaxScaler()\n",
    "\n",
    "y_scaler = y_scaler.fit(custom_scale_matrix[:, 0:2])\n",
    "\n",
    "scaled_training_labels = y_scaler.transform(training_labels)\n",
    "scaled_test_labels = y_scaler.transform(test_labels)\n",
    "\n",
    "print(\"Min: \", np.min(training_labels), \" Max: \", np.max(training_labels))\n",
    "print(\"Min: \", np.min(scaled_training_labels), \" Max: \", np.max(scaled_training_labels))\n",
    "\n",
    "scaled_training_frame = pd.DataFrame(np.concatenate((scaled_training_data, scaled_training_labels), axis=1), \n",
    "                                                 columns=['GPS X', 'GPS Y', 'Acc X', 'Acc Y',\n",
    "#                                                           'Vel X', 'Vel Y',\n",
    "#                                                           'Mag X', 'Mag Y',\n",
    "#                                                           'Gyro X', 'Gyro Y', 'Gyro Z',\n",
    "                                                          'Delta Time', 'Ground Truth X', 'Ground_Truth Y'])\n",
    "\n",
    "# training_frame.plot(figsize=(20,10))\n",
    "# scaled_training_frame.plot(figsize=(20,10))"
   ]
  },
  {
   "cell_type": "markdown",
   "metadata": {},
   "source": [
    "### Define Batch Generator\n",
    "Data is currently in a form of N observations, with 5/14 input signals and 2 ouput signals. To be processes by tensorflow \n",
    "layers, this is converted to batches of sequences of observations"
   ]
  },
  {
   "cell_type": "code",
   "execution_count": 16,
   "metadata": {},
   "outputs": [
    {
     "name": "stdout",
     "output_type": "stream",
     "text": [
      "(837, 5)\n",
      "(837, 2)\n"
     ]
    }
   ],
   "source": [
    "print(scaled_training_data.shape)\n",
    "print(scaled_training_labels.shape)"
   ]
  },
  {
   "cell_type": "code",
   "execution_count": 17,
   "metadata": {},
   "outputs": [],
   "source": [
    "def batch_generator(batch_size, sequence_length):\n",
    "    \n",
    "    # Infinite loop.\n",
    "    while True:\n",
    "        # Allocate a new array for the batch of input-signals.\n",
    "        x_shape = (batch_size, sequence_length, x_dim)\n",
    "        x_batch = np.zeros(shape=x_shape, dtype=np.float16)\n",
    "\n",
    "        # Allocate a new array for the batch of output-signals.\n",
    "        y_shape = (batch_size, sequence_length, y_dim)\n",
    "        y_batch = np.zeros(shape=y_shape, dtype=np.float16)\n",
    "\n",
    "        # Fill the batch with random sequences of data.\n",
    "        for i in range(batch_size):\n",
    "            # Get a random start-index.\n",
    "            # This points somewhere into the training-data.\n",
    "            rand_start = np.random.randint(num_train - sequence_length)\n",
    "            \n",
    "#             Copy the sequences of data starting at this index.\n",
    "            x_batch[i] = scaled_training_data[rand_start : rand_start + sequence_length]\n",
    "            y_batch[i] = scaled_training_labels[rand_start : rand_start + sequence_length]\n",
    "            \n",
    "#             x_batch[i] = scaled_training_data[i*sequence_length: i*sequence_length + sequence_length]\n",
    "#             y_batch[i] = scaled_training_labels[i*sequence_length: i*sequence_length + sequence_length]\n",
    "        \n",
    "        yield (x_batch, y_batch)"
   ]
  },
  {
   "cell_type": "code",
   "execution_count": 18,
   "metadata": {},
   "outputs": [
    {
     "name": "stdout",
     "output_type": "stream",
     "text": [
      "(512, 100, 5)\n"
     ]
    }
   ],
   "source": [
    "sess = tf.InteractiveSession()\n",
    "\n",
    "\n",
    "\n",
    "# generator = batch_generator(batch_size=math.floor(len(scaled_training_data)/100), sequence_length=100)\n",
    "generator = batch_generator(batch_size=512, sequence_length=100)\n",
    "x_batch, y_batch = next(generator)\n",
    "print(x_batch.shape)"
   ]
  },
  {
   "cell_type": "code",
   "execution_count": 19,
   "metadata": {},
   "outputs": [
    {
     "name": "stdout",
     "output_type": "stream",
     "text": [
      "(512, 100, 5)\n",
      "(512, 100, 2)\n"
     ]
    },
    {
     "data": {
      "text/plain": [
       "[<matplotlib.lines.Line2D at 0x7f18c5839710>]"
      ]
     },
     "execution_count": 19,
     "metadata": {},
     "output_type": "execute_result"
    },
    {
     "data": {
      "image/png": "[encoded data removed]",
      "text/plain": [
       "<Figure size 432x288 with 1 Axes>"
      ]
     },
     "metadata": {
      "needs_background": "light"
     },
     "output_type": "display_data"
    }
   ],
   "source": [
    "print(x_batch.shape)\n",
    "print(y_batch.shape) \n",
    "batch = 0   # First sequence in the batch.\n",
    "signal = 1  # Signal, GPS looks like steps as is interpolated at low frequency\n",
    "seq = x_batch[batch, :, signal]\n",
    "plt.plot(seq)"
   ]
  },
  {
   "cell_type": "code",
   "execution_count": 20,
   "metadata": {},
   "outputs": [],
   "source": [
    "validation_data = (np.expand_dims(scaled_test_data, axis=0), np.expand_dims(scaled_test_labels, axis=0))"
   ]
  },
  {
   "cell_type": "code",
   "execution_count": 21,
   "metadata": {},
   "outputs": [],
   "source": [
    "\n",
    "model = Sequential()\n",
    "model.add(GRU(units=1024, return_sequences=True, input_shape=(None, x_dim,)))#\n",
    "model.add(Dense(y_dim, activation='linear'))\n"
   ]
  },
  {
   "cell_type": "code",
   "execution_count": 22,
   "metadata": {},
   "outputs": [],
   "source": [
    "warmup_steps = 3\n"
   ]
  },
  {
   "cell_type": "code",
   "execution_count": 23,
   "metadata": {},
   "outputs": [],
   "source": [
    "def loss_mse_warmup(y_true, y_pred):\n",
    "    \n",
    "    y_true_slice = y_true[:, warmup_steps:, :]\n",
    "    y_pred_slice = y_pred[:, warmup_steps:, :]\n",
    "    \n",
    "    \n",
    "#     ts = tf.reshape(y_true_slice, (-1, 2))\n",
    "    \n",
    "#     ps = tf.reshape(y_pred_slice, (-1, 2))\n",
    "    \n",
    "#     def get_min_dist(pi):\n",
    "# #         print(pi.get_shape(), ts.get_shape())\n",
    "#         eu_dists = tf.norm(ts-pi, ord='euclidean', axis=1)\n",
    "#         min_dist = tf.reduce_min(eu_dists)\n",
    "#         return min_dist\n",
    "\n",
    "\n",
    "#     min_dists = tf.map_fn(get_min_dist, ps, dtype=tf.float32)\n",
    "#     print(\"Minimum distances to Ground Truth Points Shape\", min_dists.get_shape())\n",
    "#     mean_dist = tf.reduce_mean(min_dists)\n",
    "#     print(\"Mean Mimimum Distance Shape\", mean_dist.get_shape())\n",
    "    \n",
    "# #     min_dists_tot = 0.0\n",
    "# #     print(ps.shape)\n",
    "# #     for pi in ps:\n",
    "# #         min_t = sys.float_info.max\n",
    "# #         for ti in ts:\n",
    "# #             t = tf.norm(ti-pi, ord='euclidean')\n",
    "# #             if(t < min_t):\n",
    "# #                 min_t = t\n",
    "# #         min_dists_tot += min_t\n",
    "        \n",
    "# #     mean_dist = min_dists_tot/len(ps)\n",
    "    \n",
    "    eu_dists = tf.norm(y_true_slice-y_pred_slice, ord='euclidean')\n",
    "    loss_mean = tf.reduce_mean(eu_dists)\n",
    "    \n",
    "    return loss_mean"
   ]
  },
  {
   "cell_type": "code",
   "execution_count": 24,
   "metadata": {
    "scrolled": false
   },
   "outputs": [
    {
     "name": "stdout",
     "output_type": "stream",
     "text": [
      "_________________________________________________________________\n",
      "Layer (type)                 Output Shape              Param #   \n",
      "=================================================================\n",
      "gru (GRU)                    (None, None, 1024)        3164160   \n",
      "_________________________________________________________________\n",
      "dense (Dense)                (None, None, 2)           2050      \n",
      "=================================================================\n",
      "Total params: 3,166,210\n",
      "Trainable params: 3,166,210\n",
      "Non-trainable params: 0\n",
      "_________________________________________________________________\n"
     ]
    }
   ],
   "source": [
    "# optimizer = tf.train.RMSPropOptimizer(learning_rate=1e-3)\n",
    "optimizer = RMSprop(lr=1e-3)\n",
    "model.compile(loss=loss_mse_warmup, optimizer=optimizer)\n",
    "model.summary()"
   ]
  },
  {
   "cell_type": "code",
   "execution_count": 25,
   "metadata": {},
   "outputs": [],
   "source": [
    "# path_checkpoint = '23_checkpoint.keras'\n",
    "# callback_checkpoint = ModelCheckpoint(filepath=path_checkpoint,\n",
    "#                                       monitor='val_loss',\n",
    "#                                       verbose=1,\n",
    "#                                       save_weights_only=True,\n",
    "#                                       save_best_only=True)\n",
    "callback_early_stopping = EarlyStopping(monitor='val_loss',\n",
    "                                        patience=3, verbose=1)\n",
    "# callback_tensorboard = TensorBoard(log_dir='./23_logs/',\n",
    "#                                    histogram_freq=0,\n",
    "#                                    write_graph=False)\n",
    "callback_reduce_lr = ReduceLROnPlateau(monitor='val_loss',\n",
    "                                       factor=0.1,\n",
    "                                       min_lr=1e-5,\n",
    "                                       patience=0,\n",
    "                                       verbose=1)\n",
    "\n",
    "class PlotLosses(tf.keras.callbacks.Callback):\n",
    "    def on_train_begin(self, logs={}):\n",
    "        self.i = 0\n",
    "        self.x = []\n",
    "        self.losses = []\n",
    "        self.val_losses = []\n",
    "        \n",
    "        self.fig = plt.figure(figsize=(20, 10))\n",
    "        \n",
    "        self.logs = []\n",
    "\n",
    "    def on_epoch_end(self, epoch, logs={}):\n",
    "        \n",
    "        self.logs.append(logs)\n",
    "        self.x.append(self.i)\n",
    "        self.losses.append(logs.get('loss'))\n",
    "        self.val_losses.append(logs.get('val_loss'))\n",
    "        self.i += 1\n",
    "        \n",
    "        clear_output(wait=True)\n",
    "        plt.figure(figsize=(20, 10))\n",
    "        plt.plot(self.x, self.losses, label=\"loss\")\n",
    "        plt.plot(self.x, self.val_losses, label=\"val_loss\")\n",
    "        plt.legend()\n",
    "        plt.show();\n",
    "        \n",
    "plot_losses = PlotLosses()\n",
    "\n",
    "callbacks = [callback_early_stopping,\n",
    "#              callback_checkpoint,\n",
    "#              callback_tensorboard,\n",
    "             plot_losses,\n",
    "             callback_reduce_lr]\n"
   ]
  },
  {
   "cell_type": "code",
   "execution_count": null,
   "metadata": {
    "scrolled": false
   },
   "outputs": [
    {
     "data": {
      "image/png": "[encoded data removed]",
      "text/plain": [
       "<Figure size 1440x720 with 1 Axes>"
      ]
     },
     "metadata": {
      "needs_background": "light"
     },
     "output_type": "display_data"
    },
    {
     "name": "stdout",
     "output_type": "stream",
     "text": [
      "100/100 [==============================] - 26s 256ms/step - loss: 1.8205 - val_loss: 0.1649\n",
      "Epoch 6/30\n",
      " 38/100 [==========>...................] - ETA: 15s - loss: 1.7973"
     ]
    }
   ],
   "source": [
    "%%time\n",
    "# model.fit(np.expand_dims(scaled_training_data, axis=0), np.expand_dims(scaled_training_labels, axis=0), epochs=10, \n",
    "#           batch_size=32, validation_data=validation_data, callbacks=callbacks)\n",
    "model.fit_generator(generator=generator,\n",
    "                    epochs=30,\n",
    "                    steps_per_epoch=100, #Number of batches per epoch\n",
    "                    validation_data=validation_data,\n",
    "                    callbacks=callbacks)"
   ]
  },
  {
   "cell_type": "code",
   "execution_count": null,
   "metadata": {},
   "outputs": [],
   "source": [
    "result = model.evaluate(x=np.expand_dims(scaled_test_data, axis=0),\n",
    "                        y=np.expand_dims(scaled_test_labels, axis=0))\n",
    "print(\"loss (test-set):\", result)"
   ]
  },
  {
   "cell_type": "code",
   "execution_count": null,
   "metadata": {},
   "outputs": [],
   "source": [
    "def plot_comparison(trial_input, ground_truth_output, orig_gps, start_index):\n",
    "    trial_input = x_scaler.transform(trial_input)\n",
    "    \n",
    "    ground_truth_output = ground_truth_output[start_index:]\n",
    "    orig_gps = orig_gps[start_index:]\n",
    "    \n",
    "    # Make 3D\n",
    "    trial_input = np.expand_dims(trial_input, axis=0)\n",
    "    \n",
    "    # Predict output\n",
    "    predicted_output = model.predict(trial_input)\n",
    "    \n",
    "    # The output of the model is between 0 and 1. Inverse rescale to get input\n",
    "    predicted_output = y_scaler.inverse_transform(predicted_output[0])[start_index:]\n",
    "    \n",
    "    for signal in range(ground_truth_output.shape[1]):\n",
    "        \n",
    "        # Make the plotting-canvas bigger.\n",
    "        plt.figure(figsize=(8,5))\n",
    "        \n",
    "        # Plot and compare the ground truth and Model predicted versions\n",
    "        plt.plot(ground_truth_output[:, signal], label='true')\n",
    "        plt.plot(predicted_output[:, signal], label='pred')\n",
    "        \n",
    "        # Plot grey box for warmup-period.\n",
    "        p = plt.axvspan(0, warmup_steps, facecolor='red', alpha=0.15)\n",
    "        \n",
    "        # Plot labels etc.\n",
    "        plt.ylabel(\"X Displacement\" if signal == 0 else \"Y Displacement\")\n",
    "        plt.xlabel(\"Timestep\")\n",
    "        plt.legend()\n",
    "        plt.show()\n",
    "        \n",
    "# #     # Make the plotting-canvas bigger.\n",
    "    plt.figure(figsize=(8,5))\n",
    "#     %matplotlib notebook\n",
    "    # Plot and compare the two signals.\n",
    "    plt.plot(ground_truth_output[:, 0], ground_truth_output[:, 1], label='true', color = 'g')\n",
    "    plt.plot(predicted_output[:, 0], predicted_output[:, 1], label='predicted', color = 'b')\n",
    "    plt.plot(orig_gps[:, 1], orig_gps[:, 2], label='original gps', color = 'r')\n",
    "    plt.legend()\n",
    "    plt.show()\n",
    "        "
   ]
  },
  {
   "cell_type": "code",
   "execution_count": null,
   "metadata": {
    "scrolled": false
   },
   "outputs": [],
   "source": [
    "warmup_steps=20\n",
    "\n",
    "print(len(input_data))\n",
    "plot_comparison(input_data, ground_truth, data.gps, start_index=500)"
   ]
  },
  {
   "cell_type": "code",
   "execution_count": null,
   "metadata": {
    "scrolled": false
   },
   "outputs": [],
   "source": [
    "plot_comparison(input_data, ground_truth, data.gps, start_index=num_train)"
   ]
  },
  {
   "cell_type": "code",
   "execution_count": null,
   "metadata": {},
   "outputs": [],
   "source": [
    "tf.reset_default_graph()\n",
    "sess.close()"
   ]
  },
  {
   "cell_type": "code",
   "execution_count": null,
   "metadata": {},
   "outputs": [],
   "source": []
  },
  {
   "cell_type": "code",
   "execution_count": null,
   "metadata": {},
   "outputs": [],
   "source": []
  }
 ],
 "metadata": {
  "kernelspec": {
   "display_name": "Python 3",
   "language": "python",
   "name": "python3"
  },
  "language_info": {
   "codemirror_mode": {
    "name": "ipython",
    "version": 3
   },
   "file_extension": ".py",
   "mimetype": "text/x-python",
   "name": "python",
   "nbconvert_exporter": "python",
   "pygments_lexer": "ipython3",
   "version": "3.6.8"
  }
 },
 "nbformat": 4,
 "nbformat_minor": 2
}
