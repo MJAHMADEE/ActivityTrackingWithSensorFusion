{
 "cells": [
  {
   "cell_type": "code",
   "execution_count": 1,
   "metadata": {},
   "outputs": [],
   "source": [
    "%%capture\n",
    "import numpy as np\n",
    "import matplotlib\n",
    "from matplotlib import pyplot as plt\n",
    "from scipy import integrate\n",
    "from scipy import interpolate\n",
    "import math\n",
    "import sys\n",
    "from scipy import signal\n",
    "import pandas as pd\n",
    "import tensorflow as tf\n",
    "from numba import cuda\n",
    "import numba\n",
    "import os\n",
    "from sklearn.preprocessing import MinMaxScaler\n",
    "from IPython.display import display, HTML\n",
    "%run GRUSupportFns.ipynb\n",
    "import mpld3\n",
    "mpld3.enable_notebook()\n"
   ]
  },
  {
   "cell_type": "code",
   "execution_count": 2,
   "metadata": {},
   "outputs": [],
   "source": [
    "from tensorflow.python.keras.models import Sequential\n",
    "from tensorflow.python.keras.layers import Input, Dense, GRU, Embedding, Bidirectional, LSTM\n",
    "from tensorflow.python.keras.optimizers import RMSprop, Adam\n",
    "from tensorflow.python.keras.callbacks import EarlyStopping, ModelCheckpoint, TensorBoard, ReduceLROnPlateau\n",
    "from tensorflow.python.keras import backend as K \n",
    "from IPython.display import clear_output\n",
    "from tensorflow.python.keras.initializers import RandomUniform\n",
    "# tf.enable_eager_execution()"
   ]
  },
  {
   "cell_type": "markdown",
   "metadata": {},
   "source": [
    "## Load DataStream and Ground Truth\n",
    "As no reliable ground truth currently, using Kalman Filter results. Note: Ground truth must currently have the same timesteps as the input.\n",
    "\n",
    "https://github.com/Hvass-Labs/TensorFlow-Tutorials/blob/master/23_Time-Series-Prediction.ipynb"
   ]
  },
  {
   "cell_type": "code",
   "execution_count": 3,
   "metadata": {},
   "outputs": [
    {
     "name": "stdout",
     "output_type": "stream",
     "text": [
      "Parsed File\n",
      "Freq. of Acceleration 1583.554443181799\n",
      "Freq. of Lin. Acceleration 669.8833983859098\n",
      "Freq. of Gyroscope 1585.3892195648934\n",
      "Interpolated Samples\n",
      "Rotated Acceleration\n",
      "Integrated Acceleration\n",
      "Loaded Ground Truth\n",
      "Aligned Ground Truth\n",
      "Parsed File\n",
      "Freq. of Acceleration 190.0300697928473\n",
      "Freq. of Lin. Acceleration 49.00211454776328\n",
      "Freq. of Gyroscope 52.67300802601869\n",
      "Interpolated Samples\n",
      "Rotated Acceleration\n",
      "Integrated Acceleration\n",
      "Loaded Ground Truth\n",
      "Aligned Ground Truth\n"
     ]
    }
   ],
   "source": [
    "training_data, training_labels, test_data, test_labels,_ = load_train_test_data('uni.csv', 0.85)\n",
    "training_data1, training_labels1, test_data1, test_labels1,_ = load_train_test_data('data5.csv', 0.8)"
   ]
  },
  {
   "cell_type": "code",
   "execution_count": 4,
   "metadata": {},
   "outputs": [],
   "source": [
    "seq_len = 170\n",
    "batch_size=256\n",
    "batches_per_epoch = int(len(training_data)/batch_size + 1)"
   ]
  },
  {
   "cell_type": "code",
   "execution_count": null,
   "metadata": {},
   "outputs": [],
   "source": [
    "# %matplotlib notebook\n",
    "\n",
    "# colors = matplotlib.cm.rainbow(np.linspace(0, 1, 10))\n",
    "\n",
    "# plt.figure(figsize=(9.5, 8))\n",
    "# ax=plt.subplot(111)\n",
    "# for i in range(0, len(training_data), seq_len):\n",
    "#     plt.plot(training_data[i:i+seq_len, 0], training_data[i:i+seq_len, 1], '-', c=colors[int(i/seq_len) % 10])    \n",
    "#     plt.plot(training_labels[i:i+seq_len, 0], training_labels[i:i+seq_len, 1], '-', c=colors[int(i/seq_len) % 10])"
   ]
  },
  {
   "cell_type": "code",
   "execution_count": null,
   "metadata": {},
   "outputs": [],
   "source": [
    "norm_training_data, norm_training_labels, norm_test_data, norm_test_labels = scale_data(training_data, training_labels, \n",
    "                                                                                        test_data, test_labels)\n",
    "norm_training_data1, norm_training_labels1, norm_test_data1, norm_test_labels1 = scale_data(training_data1, training_labels1, \n",
    "                                                                                        test_data1, test_labels1)\n"
   ]
  },
  {
   "cell_type": "markdown",
   "metadata": {},
   "source": [
    "## Create Validation Data Set"
   ]
  },
  {
   "cell_type": "code",
   "execution_count": null,
   "metadata": {},
   "outputs": [
    {
     "name": "stdout",
     "output_type": "stream",
     "text": [
      "Batches per Epoch:  6\n",
      "(17305, 170, 11)\n"
     ]
    }
   ],
   "source": [
    "norm_input_data = np.concatenate((norm_training_data, norm_test_data))\n",
    "norm_input_labels = np.concatenate((norm_training_labels, norm_test_labels))\n",
    "\n",
    "norm_input_data1 = np.concatenate((norm_training_data1, norm_test_data1))\n",
    "norm_input_labels1 = np.concatenate((norm_training_labels1, norm_test_labels1))\n",
    "\n",
    "total_val_input = np.concatenate((norm_input_data, norm_input_data1))\n",
    "total_val_input1 = np.concatenate((norm_input_labels, norm_input_labels1))\n",
    "\n",
    "\n",
    "x_data_seqs, y_data_seqs = get_seqs(sequence_length=seq_len, \n",
    "                                    data  = total_val_input,\n",
    "                                    labels= total_val_input1)\n",
    "\n",
    "\n",
    "val_batch_size = int(0.2*batches_per_epoch*batch_size)\n",
    "val_generator = batch_generator(batch_size=val_batch_size, x_seqs=x_data_seqs, y_seqs=y_data_seqs)\n",
    "val_batch_x, val_batch_y = next(val_generator)\n",
    "\n",
    "validation_data = (val_batch_x, val_batch_y)\n",
    "print(validation_data[0].shape)"
   ]
  },
  {
   "cell_type": "markdown",
   "metadata": {},
   "source": [
    "## Start Tensorflow Session \n",
    "\n",
    "Batches in the shape (Batch Size, Sequence Length, Feature Vector Length)\n",
    "\n",
    "Hyper-parameters:\n",
    " - Batch Size\n",
    " - Sequence Length\n",
    " - Number of States in RNN layer\n",
    " - GRU or LSTM Layer\n",
    " - All forward facing layers, or bidirectional\n"
   ]
  },
  {
   "cell_type": "code",
   "execution_count": null,
   "metadata": {},
   "outputs": [],
   "source": [
    "sess = tf.InteractiveSession()\n",
    "x_train_seqs, y_train_seqs = get_seqs(sequence_length=seq_len, data=norm_training_data, labels=norm_training_labels)\n",
    "\n",
    "generator = batch_generator(batch_size=batch_size, x_seqs=x_train_seqs, y_seqs=y_train_seqs)"
   ]
  },
  {
   "cell_type": "code",
   "execution_count": null,
   "metadata": {},
   "outputs": [],
   "source": [
    "model = Sequential()\n",
    "model.add(GRU(units=128, return_sequences=True, input_shape=(None, x_dim,), activation='linear'))\n",
    "model.add(GRU(units=128, return_sequences=True, input_shape=(None, x_dim,), activation='linear'))\n",
    "model.add(GRU(units=128, return_sequences=True, input_shape=(None, x_dim,), activation='linear'))\n",
    "model.add(GRU(units=128, return_sequences=True, input_shape=(None, x_dim,), activation='linear'))\n",
    "model.add(GRU(units=128, return_sequences=True, input_shape=(None, x_dim,), activation='linear'))\n",
    "model.add(GRU(units=128, return_sequences=True, input_shape=(None, x_dim,), activation='linear'))\n",
    "model.add(Dense(y_dim, activation='linear'))"
   ]
  },
  {
   "cell_type": "code",
   "execution_count": null,
   "metadata": {},
   "outputs": [],
   "source": [
    "# model = Sequential()\n",
    "# model.add(Bidirectional(GRU(units=128, return_sequences=True), merge_mode='ave',input_shape=(None, x_dim,)))\n",
    "# model.add(Bidirectional(GRU(units=128, return_sequences=True), merge_mode='ave',input_shape=(None, x_dim,)))\n",
    "# model.add(Bidirectional(GRU(units=128, return_sequences=True), merge_mode='ave',input_shape=(None, x_dim,)))\n",
    "# model.add(Dense(y_dim, activation='linear'))         "
   ]
  },
  {
   "cell_type": "code",
   "execution_count": null,
   "metadata": {},
   "outputs": [],
   "source": [
    "warmup_steps = 20"
   ]
  },
  {
   "cell_type": "markdown",
   "metadata": {},
   "source": [
    "### Compile the Model"
   ]
  },
  {
   "cell_type": "code",
   "execution_count": null,
   "metadata": {
    "scrolled": false
   },
   "outputs": [
    {
     "name": "stdout",
     "output_type": "stream",
     "text": [
      "_________________________________________________________________\n",
      "Layer (type)                 Output Shape              Param #   \n",
      "=================================================================\n",
      "gru (GRU)                    (None, None, 128)         53760     \n",
      "_________________________________________________________________\n",
      "gru_1 (GRU)                  (None, None, 128)         98688     \n",
      "_________________________________________________________________\n",
      "gru_2 (GRU)                  (None, None, 128)         98688     \n",
      "_________________________________________________________________\n",
      "gru_3 (GRU)                  (None, None, 128)         98688     \n",
      "_________________________________________________________________\n",
      "gru_4 (GRU)                  (None, None, 128)         98688     \n",
      "_________________________________________________________________\n",
      "gru_5 (GRU)                  (None, None, 128)         98688     \n",
      "_________________________________________________________________\n",
      "dense (Dense)                (None, None, 2)           258       \n",
      "=================================================================\n",
      "Total params: 547,458\n",
      "Trainable params: 547,458\n",
      "Non-trainable params: 0\n",
      "_________________________________________________________________\n"
     ]
    }
   ],
   "source": [
    "optimizer = Adam(lr=1e-3)\n",
    "model.compile(loss=custom_loss, optimizer=optimizer)\n",
    "model.summary()"
   ]
  },
  {
   "cell_type": "code",
   "execution_count": null,
   "metadata": {},
   "outputs": [],
   "source": [
    "# path_checkpoint = '23_checkpoint.keras'\n",
    "# callback_checkpoint = ModelCheckpoint(filepath=path_checkpoint,\n",
    "#                                       monitor='val_loss',\n",
    "#                                       verbose=1,\n",
    "#                                       save_weights_only=True,\n",
    "#                                       save_best_only=True)\n",
    "callback_early_stopping = EarlyStopping(monitor='val_loss',\n",
    "                                        patience=3, verbose=1)\n",
    "# callback_tensorboard = TensorBoard(log_dir='./23_logs/',\n",
    "#                                    histogram_freq=0,\n",
    "#                                    write_graph=False)\n",
    "callback_reduce_lr = ReduceLROnPlateau(monitor='val_loss',\n",
    "                                       factor=0.1,\n",
    "                                       min_lr=1e-7,\n",
    "                                       patience=0,\n",
    "                                       verbose=1)      \n",
    "plot_losses = PlotLosses()\n",
    "\n",
    "callbacks = [callback_early_stopping,\n",
    "#              callback_checkpoint,\n",
    "#              callback_tensorboard,\n",
    "             plot_losses,\n",
    "             callback_reduce_lr]\n"
   ]
  },
  {
   "cell_type": "markdown",
   "metadata": {},
   "source": [
    "## Train the Model\n",
    " - Choose the maximum amount of epochs\n",
    " - How many batches of the data per epoch"
   ]
  },
  {
   "cell_type": "code",
   "execution_count": null,
   "metadata": {},
   "outputs": [
    {
     "data": {
      "image/png": "[encoded data removed]",
      "text/html": [
       "\n",
       "\n",
       "<style>\n",
       "\n",
       "</style>\n",
       "\n",
       "<div id=\"fig_el173271403728197803284516466488\"></div>\n",
       "<script>\n",
       "function mpld3_load_lib(url, callback){\n",
       "  var s = document.createElement('script');\n",
       "  s.src = url;\n",
       "  s.async = true;\n",
       "  s.onreadystatechange = s.onload = callback;\n",
       "  s.onerror = function(){console.warn(\"failed to load library \" + url);};\n",
       "  document.getElementsByTagName(\"head\")[0].appendChild(s);\n",
       "}\n",
       "\n",
       "if(typeof(mpld3) !== \"undefined\" && mpld3._mpld3IsLoaded){\n",
       "   // already loaded: just create the figure\n",
       "   !function(mpld3){\n",
       "       \n",
       "       mpld3.draw_figure(\"fig_el173271403728197803284516466488\", {\"width\": 648.0, \"height\": 576.0, \"axes\": [{\"bbox\": [0.125, 0.125, 0.775, 0.755], \"xlim\": [-0.55, 11.55], \"ylim\": [-0.24497884194757336, 7.176055722198739], \"xdomain\": [-0.55, 11.55], \"ydomain\": [-0.24497884194757336, 7.176055722198739], \"xscale\": \"linear\", \"yscale\": \"linear\", \"axes\": [{\"position\": \"bottom\", \"nticks\": 8, \"tickvalues\": null, \"tickformat\": null, \"scale\": \"linear\", \"fontsize\": 10.0, \"grid\": {\"gridOn\": false}, \"visible\": true}, {\"position\": \"left\", \"nticks\": 10, \"tickvalues\": null, \"tickformat\": null, \"scale\": \"linear\", \"fontsize\": 10.0, \"grid\": {\"gridOn\": false}, \"visible\": true}], \"axesbg\": \"#FFFFFF\", \"axesbgalpha\": null, \"zoomable\": true, \"id\": \"el17327140372819783520\", \"lines\": [{\"data\": \"data01\", \"xindex\": 0, \"yindex\": 1, \"coordinates\": \"data\", \"id\": \"el17327140372819535800\", \"color\": \"#FF0000\", \"linewidth\": 1.5, \"dasharray\": \"none\", \"alpha\": 1, \"zorder\": 2, \"drawstyle\": \"default\"}, {\"data\": \"data01\", \"xindex\": 0, \"yindex\": 2, \"coordinates\": \"data\", \"id\": \"el17327140372819536136\", \"color\": \"#0000FF\", \"linewidth\": 1.5, \"dasharray\": \"none\", \"alpha\": 1, \"zorder\": 2, \"drawstyle\": \"default\"}, {\"data\": \"data02\", \"xindex\": 0, \"yindex\": 1, \"coordinates\": \"axes\", \"id\": \"el17327140372819051296\", \"color\": \"#FF0000\", \"linewidth\": 1.5, \"dasharray\": \"none\", \"alpha\": 1, \"zorder\": 1000002.0, \"drawstyle\": \"default\"}, {\"data\": \"data02\", \"xindex\": 2, \"yindex\": 1, \"coordinates\": \"axes\", \"id\": \"el17327140372819052360\", \"color\": \"#0000FF\", \"linewidth\": 1.5, \"dasharray\": \"none\", \"alpha\": 1, \"zorder\": 1000002.0, \"drawstyle\": \"default\"}], \"paths\": [{\"data\": \"data03\", \"xindex\": 0, \"yindex\": 1, \"coordinates\": \"axes\", \"pathcodes\": [\"M\", \"L\", \"S\", \"L\", \"S\", \"L\", \"S\", \"L\", \"S\", \"Z\"], \"id\": \"el17327140372819537648\", \"dasharray\": \"none\", \"alpha\": 0.8, \"facecolor\": \"#FFFFFF\", \"edgecolor\": \"#CCCCCC\", \"edgewidth\": 1.0, \"zorder\": 1000000.0}], \"markers\": [], \"texts\": [{\"text\": \"Epochs\", \"position\": [0.5, -0.04828918322295808], \"coordinates\": \"axes\", \"h_anchor\": \"middle\", \"v_baseline\": \"hanging\", \"rotation\": -0.0, \"fontsize\": 10.0, \"color\": \"#000000\", \"alpha\": 1, \"zorder\": 3, \"id\": \"el17327140372819323760\"}, {\"text\": \"Loss\", \"position\": [-0.03459776981282359, 0.4999999999999999], \"coordinates\": \"axes\", \"h_anchor\": \"middle\", \"v_baseline\": \"auto\", \"rotation\": -90.0, \"fontsize\": 10.0, \"color\": \"#000000\", \"alpha\": 1, \"zorder\": 3, \"id\": \"el17327140372820513176\"}, {\"text\": \"Training Loss\", \"position\": [0.33897413878932703, 0.9609087564385577], \"coordinates\": \"axes\", \"h_anchor\": \"start\", \"v_baseline\": \"auto\", \"rotation\": -0.0, \"fontsize\": 10.0, \"color\": \"#000000\", \"alpha\": 1, \"zorder\": 1000003.0, \"id\": \"el17327140372819050792\"}, {\"text\": \"Validation Loss\", \"position\": [0.5664420300677021, 0.9609087564385577], \"coordinates\": \"axes\", \"h_anchor\": \"start\", \"v_baseline\": \"auto\", \"rotation\": -0.0, \"fontsize\": 10.0, \"color\": \"#000000\", \"alpha\": 1, \"zorder\": 1000003.0, \"id\": \"el17327140372819051912\"}], \"collections\": [], \"images\": [], \"sharex\": [], \"sharey\": []}], \"data\": {\"data01\": [[0.0, 6.838735969282998, 1.9844785983422628], [1.0, 2.572580135664948, 0.5450637353565334], [2.0, 2.0876698967844454, 0.348785284145207], [3.0, 1.493137407898012, 0.3499291213872425], [4.0, 0.5016187377455577, 0.18996953905464012], [5.0, 0.32741663731949444, 0.31732857001892095], [6.0, 0.1956131187941785, 0.10392029582162497], [7.0, 0.1644102279303805, 0.0968872805142964], [8.0, 0.15804371016004468, 0.0945640014895157], [9.0, 0.15398707433314915, 0.09718620543731703], [10.0, 0.1499318233336848, 0.09260559839596641], [11.0, 0.1494455883966219, 0.09234091096816811]], \"data02\": [[0.2832194593787336, 0.968956953642384, 0.5106873506571087], [0.3230442303863003, 0.968956953642384, 0.5505121216646753]], \"data03\": [[0.2792369822779769, 0.947111846946284], [0.7207630177220231, 0.947111846946284], [0.7247454948227797, 0.947111846946284], [0.7247454948227797, 0.9517108167770418], [0.7247454948227797, 0.9839036055923474], [0.7247454948227797, 0.9885025754231052], [0.7207630177220231, 0.9885025754231052], [0.2792369822779769, 0.9885025754231052], [0.2752545051772203, 0.9885025754231052], [0.2752545051772203, 0.9839036055923474], [0.2752545051772203, 0.9517108167770418], [0.2752545051772203, 0.947111846946284], [0.2792369822779769, 0.947111846946284]]}, \"id\": \"el17327140372819780328\", \"plugins\": [{\"type\": \"reset\"}, {\"type\": \"zoom\", \"button\": true, \"enabled\": false}, {\"type\": \"boxzoom\", \"button\": true, \"enabled\": false}]});\n",
       "   }(mpld3);\n",
       "}else if(typeof define === \"function\" && define.amd){\n",
       "   // require.js is available: use it to load d3/mpld3\n",
       "   require.config({paths: {d3: \"https://mpld3.github.io/js/d3.v3.min\"}});\n",
       "   require([\"d3\"], function(d3){\n",
       "      window.d3 = d3;\n",
       "      mpld3_load_lib(\"https://mpld3.github.io/js/mpld3.v0.3.js\", function(){\n",
       "         \n",
       "         mpld3.draw_figure(\"fig_el173271403728197803284516466488\", {\"width\": 648.0, \"height\": 576.0, \"axes\": [{\"bbox\": [0.125, 0.125, 0.775, 0.755], \"xlim\": [-0.55, 11.55], \"ylim\": [-0.24497884194757336, 7.176055722198739], \"xdomain\": [-0.55, 11.55], \"ydomain\": [-0.24497884194757336, 7.176055722198739], \"xscale\": \"linear\", \"yscale\": \"linear\", \"axes\": [{\"position\": \"bottom\", \"nticks\": 8, \"tickvalues\": null, \"tickformat\": null, \"scale\": \"linear\", \"fontsize\": 10.0, \"grid\": {\"gridOn\": false}, \"visible\": true}, {\"position\": \"left\", \"nticks\": 10, \"tickvalues\": null, \"tickformat\": null, \"scale\": \"linear\", \"fontsize\": 10.0, \"grid\": {\"gridOn\": false}, \"visible\": true}], \"axesbg\": \"#FFFFFF\", \"axesbgalpha\": null, \"zoomable\": true, \"id\": \"el17327140372819783520\", \"lines\": [{\"data\": \"data01\", \"xindex\": 0, \"yindex\": 1, \"coordinates\": \"data\", \"id\": \"el17327140372819535800\", \"color\": \"#FF0000\", \"linewidth\": 1.5, \"dasharray\": \"none\", \"alpha\": 1, \"zorder\": 2, \"drawstyle\": \"default\"}, {\"data\": \"data01\", \"xindex\": 0, \"yindex\": 2, \"coordinates\": \"data\", \"id\": \"el17327140372819536136\", \"color\": \"#0000FF\", \"linewidth\": 1.5, \"dasharray\": \"none\", \"alpha\": 1, \"zorder\": 2, \"drawstyle\": \"default\"}, {\"data\": \"data02\", \"xindex\": 0, \"yindex\": 1, \"coordinates\": \"axes\", \"id\": \"el17327140372819051296\", \"color\": \"#FF0000\", \"linewidth\": 1.5, \"dasharray\": \"none\", \"alpha\": 1, \"zorder\": 1000002.0, \"drawstyle\": \"default\"}, {\"data\": \"data02\", \"xindex\": 2, \"yindex\": 1, \"coordinates\": \"axes\", \"id\": \"el17327140372819052360\", \"color\": \"#0000FF\", \"linewidth\": 1.5, \"dasharray\": \"none\", \"alpha\": 1, \"zorder\": 1000002.0, \"drawstyle\": \"default\"}], \"paths\": [{\"data\": \"data03\", \"xindex\": 0, \"yindex\": 1, \"coordinates\": \"axes\", \"pathcodes\": [\"M\", \"L\", \"S\", \"L\", \"S\", \"L\", \"S\", \"L\", \"S\", \"Z\"], \"id\": \"el17327140372819537648\", \"dasharray\": \"none\", \"alpha\": 0.8, \"facecolor\": \"#FFFFFF\", \"edgecolor\": \"#CCCCCC\", \"edgewidth\": 1.0, \"zorder\": 1000000.0}], \"markers\": [], \"texts\": [{\"text\": \"Epochs\", \"position\": [0.5, -0.04828918322295808], \"coordinates\": \"axes\", \"h_anchor\": \"middle\", \"v_baseline\": \"hanging\", \"rotation\": -0.0, \"fontsize\": 10.0, \"color\": \"#000000\", \"alpha\": 1, \"zorder\": 3, \"id\": \"el17327140372819323760\"}, {\"text\": \"Loss\", \"position\": [-0.03459776981282359, 0.4999999999999999], \"coordinates\": \"axes\", \"h_anchor\": \"middle\", \"v_baseline\": \"auto\", \"rotation\": -90.0, \"fontsize\": 10.0, \"color\": \"#000000\", \"alpha\": 1, \"zorder\": 3, \"id\": \"el17327140372820513176\"}, {\"text\": \"Training Loss\", \"position\": [0.33897413878932703, 0.9609087564385577], \"coordinates\": \"axes\", \"h_anchor\": \"start\", \"v_baseline\": \"auto\", \"rotation\": -0.0, \"fontsize\": 10.0, \"color\": \"#000000\", \"alpha\": 1, \"zorder\": 1000003.0, \"id\": \"el17327140372819050792\"}, {\"text\": \"Validation Loss\", \"position\": [0.5664420300677021, 0.9609087564385577], \"coordinates\": \"axes\", \"h_anchor\": \"start\", \"v_baseline\": \"auto\", \"rotation\": -0.0, \"fontsize\": 10.0, \"color\": \"#000000\", \"alpha\": 1, \"zorder\": 1000003.0, \"id\": \"el17327140372819051912\"}], \"collections\": [], \"images\": [], \"sharex\": [], \"sharey\": []}], \"data\": {\"data01\": [[0.0, 6.838735969282998, 1.9844785983422628], [1.0, 2.572580135664948, 0.5450637353565334], [2.0, 2.0876698967844454, 0.348785284145207], [3.0, 1.493137407898012, 0.3499291213872425], [4.0, 0.5016187377455577, 0.18996953905464012], [5.0, 0.32741663731949444, 0.31732857001892095], [6.0, 0.1956131187941785, 0.10392029582162497], [7.0, 0.1644102279303805, 0.0968872805142964], [8.0, 0.15804371016004468, 0.0945640014895157], [9.0, 0.15398707433314915, 0.09718620543731703], [10.0, 0.1499318233336848, 0.09260559839596641], [11.0, 0.1494455883966219, 0.09234091096816811]], \"data02\": [[0.2832194593787336, 0.968956953642384, 0.5106873506571087], [0.3230442303863003, 0.968956953642384, 0.5505121216646753]], \"data03\": [[0.2792369822779769, 0.947111846946284], [0.7207630177220231, 0.947111846946284], [0.7247454948227797, 0.947111846946284], [0.7247454948227797, 0.9517108167770418], [0.7247454948227797, 0.9839036055923474], [0.7247454948227797, 0.9885025754231052], [0.7207630177220231, 0.9885025754231052], [0.2792369822779769, 0.9885025754231052], [0.2752545051772203, 0.9885025754231052], [0.2752545051772203, 0.9839036055923474], [0.2752545051772203, 0.9517108167770418], [0.2752545051772203, 0.947111846946284], [0.2792369822779769, 0.947111846946284]]}, \"id\": \"el17327140372819780328\", \"plugins\": [{\"type\": \"reset\"}, {\"type\": \"zoom\", \"button\": true, \"enabled\": false}, {\"type\": \"boxzoom\", \"button\": true, \"enabled\": false}]});\n",
       "      });\n",
       "    });\n",
       "}else{\n",
       "    // require.js not available: dynamically load d3 & mpld3\n",
       "    mpld3_load_lib(\"https://mpld3.github.io/js/d3.v3.min.js\", function(){\n",
       "         mpld3_load_lib(\"https://mpld3.github.io/js/mpld3.v0.3.js\", function(){\n",
       "                 \n",
       "                 mpld3.draw_figure(\"fig_el173271403728197803284516466488\", {\"width\": 648.0, \"height\": 576.0, \"axes\": [{\"bbox\": [0.125, 0.125, 0.775, 0.755], \"xlim\": [-0.55, 11.55], \"ylim\": [-0.24497884194757336, 7.176055722198739], \"xdomain\": [-0.55, 11.55], \"ydomain\": [-0.24497884194757336, 7.176055722198739], \"xscale\": \"linear\", \"yscale\": \"linear\", \"axes\": [{\"position\": \"bottom\", \"nticks\": 8, \"tickvalues\": null, \"tickformat\": null, \"scale\": \"linear\", \"fontsize\": 10.0, \"grid\": {\"gridOn\": false}, \"visible\": true}, {\"position\": \"left\", \"nticks\": 10, \"tickvalues\": null, \"tickformat\": null, \"scale\": \"linear\", \"fontsize\": 10.0, \"grid\": {\"gridOn\": false}, \"visible\": true}], \"axesbg\": \"#FFFFFF\", \"axesbgalpha\": null, \"zoomable\": true, \"id\": \"el17327140372819783520\", \"lines\": [{\"data\": \"data01\", \"xindex\": 0, \"yindex\": 1, \"coordinates\": \"data\", \"id\": \"el17327140372819535800\", \"color\": \"#FF0000\", \"linewidth\": 1.5, \"dasharray\": \"none\", \"alpha\": 1, \"zorder\": 2, \"drawstyle\": \"default\"}, {\"data\": \"data01\", \"xindex\": 0, \"yindex\": 2, \"coordinates\": \"data\", \"id\": \"el17327140372819536136\", \"color\": \"#0000FF\", \"linewidth\": 1.5, \"dasharray\": \"none\", \"alpha\": 1, \"zorder\": 2, \"drawstyle\": \"default\"}, {\"data\": \"data02\", \"xindex\": 0, \"yindex\": 1, \"coordinates\": \"axes\", \"id\": \"el17327140372819051296\", \"color\": \"#FF0000\", \"linewidth\": 1.5, \"dasharray\": \"none\", \"alpha\": 1, \"zorder\": 1000002.0, \"drawstyle\": \"default\"}, {\"data\": \"data02\", \"xindex\": 2, \"yindex\": 1, \"coordinates\": \"axes\", \"id\": \"el17327140372819052360\", \"color\": \"#0000FF\", \"linewidth\": 1.5, \"dasharray\": \"none\", \"alpha\": 1, \"zorder\": 1000002.0, \"drawstyle\": \"default\"}], \"paths\": [{\"data\": \"data03\", \"xindex\": 0, \"yindex\": 1, \"coordinates\": \"axes\", \"pathcodes\": [\"M\", \"L\", \"S\", \"L\", \"S\", \"L\", \"S\", \"L\", \"S\", \"Z\"], \"id\": \"el17327140372819537648\", \"dasharray\": \"none\", \"alpha\": 0.8, \"facecolor\": \"#FFFFFF\", \"edgecolor\": \"#CCCCCC\", \"edgewidth\": 1.0, \"zorder\": 1000000.0}], \"markers\": [], \"texts\": [{\"text\": \"Epochs\", \"position\": [0.5, -0.04828918322295808], \"coordinates\": \"axes\", \"h_anchor\": \"middle\", \"v_baseline\": \"hanging\", \"rotation\": -0.0, \"fontsize\": 10.0, \"color\": \"#000000\", \"alpha\": 1, \"zorder\": 3, \"id\": \"el17327140372819323760\"}, {\"text\": \"Loss\", \"position\": [-0.03459776981282359, 0.4999999999999999], \"coordinates\": \"axes\", \"h_anchor\": \"middle\", \"v_baseline\": \"auto\", \"rotation\": -90.0, \"fontsize\": 10.0, \"color\": \"#000000\", \"alpha\": 1, \"zorder\": 3, \"id\": \"el17327140372820513176\"}, {\"text\": \"Training Loss\", \"position\": [0.33897413878932703, 0.9609087564385577], \"coordinates\": \"axes\", \"h_anchor\": \"start\", \"v_baseline\": \"auto\", \"rotation\": -0.0, \"fontsize\": 10.0, \"color\": \"#000000\", \"alpha\": 1, \"zorder\": 1000003.0, \"id\": \"el17327140372819050792\"}, {\"text\": \"Validation Loss\", \"position\": [0.5664420300677021, 0.9609087564385577], \"coordinates\": \"axes\", \"h_anchor\": \"start\", \"v_baseline\": \"auto\", \"rotation\": -0.0, \"fontsize\": 10.0, \"color\": \"#000000\", \"alpha\": 1, \"zorder\": 1000003.0, \"id\": \"el17327140372819051912\"}], \"collections\": [], \"images\": [], \"sharex\": [], \"sharey\": []}], \"data\": {\"data01\": [[0.0, 6.838735969282998, 1.9844785983422628], [1.0, 2.572580135664948, 0.5450637353565334], [2.0, 2.0876698967844454, 0.348785284145207], [3.0, 1.493137407898012, 0.3499291213872425], [4.0, 0.5016187377455577, 0.18996953905464012], [5.0, 0.32741663731949444, 0.31732857001892095], [6.0, 0.1956131187941785, 0.10392029582162497], [7.0, 0.1644102279303805, 0.0968872805142964], [8.0, 0.15804371016004468, 0.0945640014895157], [9.0, 0.15398707433314915, 0.09718620543731703], [10.0, 0.1499318233336848, 0.09260559839596641], [11.0, 0.1494455883966219, 0.09234091096816811]], \"data02\": [[0.2832194593787336, 0.968956953642384, 0.5106873506571087], [0.3230442303863003, 0.968956953642384, 0.5505121216646753]], \"data03\": [[0.2792369822779769, 0.947111846946284], [0.7207630177220231, 0.947111846946284], [0.7247454948227797, 0.947111846946284], [0.7247454948227797, 0.9517108167770418], [0.7247454948227797, 0.9839036055923474], [0.7247454948227797, 0.9885025754231052], [0.7207630177220231, 0.9885025754231052], [0.2792369822779769, 0.9885025754231052], [0.2752545051772203, 0.9885025754231052], [0.2752545051772203, 0.9839036055923474], [0.2752545051772203, 0.9517108167770418], [0.2752545051772203, 0.947111846946284], [0.2792369822779769, 0.947111846946284]]}, \"id\": \"el17327140372819780328\", \"plugins\": [{\"type\": \"reset\"}, {\"type\": \"zoom\", \"button\": true, \"enabled\": false}, {\"type\": \"boxzoom\", \"button\": true, \"enabled\": false}]});\n",
       "            })\n",
       "         });\n",
       "}\n",
       "</script>"
      ],
      "text/plain": [
       "<Figure size 648x576 with 1 Axes>"
      ]
     },
     "metadata": {
      "needs_background": "light"
     },
     "output_type": "display_data"
    },
    {
     "name": "stdout",
     "output_type": "stream",
     "text": [
      "338/338 [==============================] - 475s 1s/step - loss: 0.1492 - val_loss: 0.0923\n",
      "Epoch 13/30\n",
      "112/338 [========>.....................] - ETA: 4:02 - loss: 0.1488"
     ]
    }
   ],
   "source": [
    "%%time\n",
    "# model.fit(np.expand_dims(scaled_training_data, axis=0), np.expand_dims(scaled_training_labels, axis=0), epochs=10, \n",
    "#           batch_size=32, validation_data=validation_data, callbacks=callbacks)\n",
    "model.fit_generator(generator=generator,\n",
    "                    epochs=30,\n",
    "                    steps_per_epoch=batches_per_epoch, #Number of batches per epoch\n",
    "                    validation_data=validation_data,\n",
    "                    callbacks=callbacks)"
   ]
  },
  {
   "cell_type": "markdown",
   "metadata": {},
   "source": [
    "## Evaluate Model on Test Data"
   ]
  },
  {
   "cell_type": "code",
   "execution_count": null,
   "metadata": {},
   "outputs": [],
   "source": [
    "result = model.evaluate(x=np.expand_dims(norm_test_data, axis=0),\n",
    "                        y=np.expand_dims(norm_test_labels, axis=0))\n",
    "print(\"loss (test-set):\", result)"
   ]
  },
  {
   "cell_type": "code",
   "execution_count": null,
   "metadata": {
    "scrolled": false
   },
   "outputs": [],
   "source": [
    "plot_comparison('data5.csv', train_percentage=0.0, seq_len=seq_len)"
   ]
  },
  {
   "cell_type": "code",
   "execution_count": null,
   "metadata": {
    "scrolled": false
   },
   "outputs": [],
   "source": [
    "plot_comparison('uni.csv', train_percentage=0.85, start_index = 0, seq_len=seq_len)"
   ]
  },
  {
   "cell_type": "markdown",
   "metadata": {},
   "source": [
    "## Reset Tensorflow Graph"
   ]
  },
  {
   "cell_type": "code",
   "execution_count": null,
   "metadata": {},
   "outputs": [],
   "source": [
    "# tf.reset_default_graph()\n",
    "# sess.close()"
   ]
  },
  {
   "cell_type": "code",
   "execution_count": null,
   "metadata": {},
   "outputs": [],
   "source": []
  },
  {
   "cell_type": "code",
   "execution_count": null,
   "metadata": {},
   "outputs": [],
   "source": []
  },
  {
   "cell_type": "code",
   "execution_count": null,
   "metadata": {},
   "outputs": [],
   "source": []
  }
 ],
 "metadata": {
  "kernelspec": {
   "display_name": "Python 3",
   "language": "python",
   "name": "python3"
  },
  "language_info": {
   "codemirror_mode": {
    "name": "ipython",
    "version": 3
   },
   "file_extension": ".py",
   "mimetype": "text/x-python",
   "name": "python",
   "nbconvert_exporter": "python",
   "pygments_lexer": "ipython3",
   "version": "3.6.8"
  }
 },
 "nbformat": 4,
 "nbformat_minor": 2
}
