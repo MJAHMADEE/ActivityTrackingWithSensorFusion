{
 "cells": [
  {
   "cell_type": "code",
   "execution_count": 29,
   "metadata": {},
   "outputs": [],
   "source": [
    "import numpy as np\n",
    "import matplotlib\n",
    "from matplotlib import pyplot as plt\n",
    "from scipy import integrate\n",
    "from scipy import interpolate\n",
    "import math\n",
    "from scipy import signal\n",
    "from numba import jit\n",
    "%run StreamClass.ipynb"
   ]
  },
  {
   "cell_type": "markdown",
   "metadata": {},
   "source": [
    "## Plot each variable on a graph"
   ]
  },
  {
   "cell_type": "markdown",
   "metadata": {},
   "source": [
    "## Kalman Filter Implementation"
   ]
  },
  {
   "cell_type": "code",
   "execution_count": 3,
   "metadata": {},
   "outputs": [
    {
     "name": "stdout",
     "output_type": "stream",
     "text": [
      "The line_profiler extension is already loaded. To reload it, use:\n",
      "  %reload_ext line_profiler\n"
     ]
    }
   ],
   "source": [
    "%load_ext line_profiler\n",
    "\n",
    "def getQ(Q, acc_stddev, dt):\n",
    "    vel_stddev = acc_stddev*dt\n",
    "    dis_stddev = 0.5*acc_stddev*dt**2\n",
    "    Q[0, 0] = dis_stddev**2\n",
    "    Q[1, 1] = dis_stddev**2\n",
    "    Q[2, 2] = vel_stddev**2\n",
    "    Q[3, 3] = vel_stddev**2\n",
    "    Q[0, 2] = dis_stddev*vel_stddev\n",
    "    Q[1, 3] = dis_stddev*vel_stddev\n",
    "    return Q\n",
    "\n",
    "\n",
    "def getFkBk(Fk, Bk, dt):\n",
    "    Fk[0, 2] = dt\n",
    "    Fk[1, 3] = dt\n",
    "    Bk[0, 0] = 0.5*dt**2\n",
    "    Bk[1, 1] = 0.5*dt**2\n",
    "    Bk[2, 0] = dt\n",
    "    Bk[3, 1] = dt\n",
    "    return Fk, Bk\n",
    "\n",
    "def kalman_predict(dt, Fk, Bk, xk, uk, Pk, Q, acc_stddev):\n",
    "    Q = getQ(Q, acc_stddev, dt)\n",
    "    Fk, Bk = getFkBk(Fk, Bk, dt)\n",
    "    xk = np.matmul(Fk, xk) + np.matmul(Bk, uk)\n",
    "    Pk = np.matmul(np.matmul(Fk, Pk), Fk.T) + Q\n",
    "    return xk, Pk, Fk, Bk\n",
    "\n",
    "def kalman_gain(Pk, H, R):\n",
    "    PkHT = np.matmul(Pk, H.T)\n",
    "    K = np.matmul(PkHT, np.linalg.inv(np.matmul(H, PkHT)+R))\n",
    "    return K\n",
    "\n",
    "def kalman_update_uncertainty(Pk, K, H):\n",
    "    return Pk - np.matmul(K, np.matmul(H, Pk))\n",
    "\n",
    "def kalman_update_state(xk, zk, K, H):\n",
    "    Hxk = np.matmul(H, xk)\n",
    "    return xk+np.matmul(K, zk-Hxk )\n",
    "\n",
    "\n",
    "\n",
    "def reverse_data(acc, gps):\n",
    "    \n",
    "    end_time = acc[-1, 0]\n",
    "    acc = acc[::-1]\n",
    "    gps = gps[::-1]\n",
    "    \n",
    "    for i in range(len(acc)):\n",
    "        acc[i] = -1*acc[i]\n",
    "        acc[i, 0] += end_time\n",
    "        gps[i, 0] = acc[i, 0]\n",
    "        \n",
    "    return acc.T, gps.T\n",
    "\n",
    "def compute_kalman(data, reverse=False):\n",
    "    ## Assume that the initial state is position (0, 0) and velocity (0, 0)       \n",
    "    acc = data.acc_ERC.T\n",
    "    gps = data.gps.T\n",
    "    \n",
    "    if(reverse):\n",
    "        acc, gps = reverse_data(acc, gps)\n",
    "    gps = np.concatenate((gps[1:3, :], np.zeros((2, gps.shape[1]))))\n",
    "    \n",
    "    \n",
    "    x0 = np.asmatrix([gps[0, 0], gps[1, 0], 0, 0]).T\n",
    "    xks = [x0]\n",
    "    u0 = acc[1:3, 0]\n",
    "    uks = [u0]\n",
    "    Fk = np.asmatrix(np.identity(4))\n",
    "    Bk = np.zeros((4, 2))\n",
    "\n",
    "    acc_stddev = 0.6\n",
    "\n",
    "    P0 = np.zeros((4, 4))\n",
    "    Pks = [P0]\n",
    "\n",
    "    H = np.identity(4)\n",
    "    H[2, 2] = 0.0\n",
    "    H[3, 3] = 0.0\n",
    "    gps_var = 15.2\n",
    "    R = gps_var*np.identity(4)\n",
    "    Q = np.zeros((4,4))\n",
    "    for i in range(1, acc.shape[1]):\n",
    "        dt = acc[0, i] - acc[0, i-1]\n",
    "        xk, Pk, Fk, Bk = kalman_predict(dt, Fk, Bk, xks[-1], acc[1:3, i-1], Pks[-1], Q, acc_stddev)\n",
    "        xks.append(xk)\n",
    "        Pks.append(Pk)\n",
    "\n",
    "        K = kalman_gain(Pks[-1], H, R)\n",
    "        xks[-1] = kalman_update_state(xk, gps[:, i], K, H)\n",
    "        Pks[-1] = kalman_update_uncertainty(Pks[-1], K, H)\n",
    "        \n",
    "\n",
    "    xks = np.concatenate(xks, axis=1).T\n",
    "    data.init_kalman(xks, reverse)"
   ]
  },
  {
   "cell_type": "code",
   "execution_count": null,
   "metadata": {},
   "outputs": [],
   "source": []
  }
 ],
 "metadata": {
  "kernelspec": {
   "display_name": "Python 3",
   "language": "python",
   "name": "python3"
  },
  "language_info": {
   "codemirror_mode": {
    "name": "ipython",
    "version": 3
   },
   "file_extension": ".py",
   "mimetype": "text/x-python",
   "name": "python",
   "nbconvert_exporter": "python",
   "pygments_lexer": "ipython3",
   "version": "3.7.2"
  }
 },
 "nbformat": 4,
 "nbformat_minor": 2
}
