version https://git-lfs.github.com/spec/v1
oid sha256:6bdcf5b0ff0abd002a01248a2344cca4e28adedada96b5fc3489f14ef0823500
size 43284
