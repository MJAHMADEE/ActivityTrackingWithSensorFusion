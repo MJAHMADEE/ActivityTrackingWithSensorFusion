{
 "cells": [
  {
   "cell_type": "code",
   "execution_count": 1,
   "metadata": {},
   "outputs": [],
   "source": [
    "%%capture\n",
    "import numpy as np\n",
    "import matplotlib\n",
    "from matplotlib import pyplot as plt\n",
    "from scipy import integrate\n",
    "from scipy import interpolate\n",
    "import math\n",
    "import sys\n",
    "from scipy import signal\n",
    "import pandas as pd\n",
    "import tensorflow as tf\n",
    "from numba import cuda\n",
    "import numba\n",
    "import os\n",
    "from sklearn.preprocessing import MinMaxScaler\n",
    "from IPython.display import display, HTML\n",
    "%run GRUSupportFns.ipynb\n",
    "import mpld3\n",
    "mpld3.enable_notebook()\n"
   ]
  },
  {
   "cell_type": "code",
   "execution_count": 2,
   "metadata": {},
   "outputs": [],
   "source": [
    "# from tf.keras.models import Sequential  # This does not work!\n",
    "from tensorflow.python.keras.models import Sequential\n",
    "from tensorflow.python.keras.layers import Input, Dense, GRU, Embedding, Bidirectional\n",
    "from tensorflow.python.keras.optimizers import RMSprop\n",
    "from tensorflow.python.keras.callbacks import EarlyStopping, ModelCheckpoint, TensorBoard, ReduceLROnPlateau\n",
    "from tensorflow.python.keras import backend as K \n",
    "from IPython.display import clear_output\n",
    "from tensorflow.python.keras.initializers import RandomUniform\n",
    "# tf.enable_eager_execution()"
   ]
  },
  {
   "cell_type": "markdown",
   "metadata": {},
   "source": [
    "## Load DataStream and Ground Truth\n",
    "As no reliable ground truth currently, using Kalman Filter results. Note: Ground truth must currently have the same timesteps as the input.\n",
    "\n",
    "https://github.com/Hvass-Labs/TensorFlow-Tutorials/blob/master/23_Time-Series-Prediction.ipynb"
   ]
  },
  {
   "cell_type": "code",
   "execution_count": 3,
   "metadata": {},
   "outputs": [
    {
     "name": "stdout",
     "output_type": "stream",
     "text": [
      "Parsed File\n",
      "Freq. of Acceleration 190.0300697928473\n",
      "Freq. of Lin. Acceleration 49.00211454776328\n",
      "Freq. of Gyroscope 52.67300802601869\n",
      "Interpolated Samples\n",
      "Loaded Ground Truth\n",
      "Rotated Acceleration\n",
      "Integrated Acceleration\n"
     ]
    }
   ],
   "source": [
    "training_data, training_labels, test_data, test_labels,_ = load_train_test_data('data5.csv', 0.85)"
   ]
  },
  {
   "cell_type": "code",
   "execution_count": 4,
   "metadata": {},
   "outputs": [],
   "source": [
    "norm_training_data, norm_training_labels, norm_test_data, norm_test_labels = scale_data(training_data, training_labels, \n",
    "                                                                                        test_data, test_labels)"
   ]
  },
  {
   "cell_type": "code",
   "execution_count": null,
   "metadata": {},
   "outputs": [],
   "source": [
    "validation_data = (np.expand_dims(norm_test_data, axis=0), \n",
    "                   np.expand_dims(norm_test_labels, axis=0))"
   ]
  },
  {
   "cell_type": "markdown",
   "metadata": {},
   "source": [
    "## Start Tensorflow Session \n",
    "\n",
    "Batches in the shape (Batch Size, Sequence Length, Input Dimension)\n",
    "\n",
    "Hyper-parameters:\n",
    " - Batch Size\n",
    " - Sequence Length\n",
    " - Number of States in GRU layer\n"
   ]
  },
  {
   "cell_type": "code",
   "execution_count": null,
   "metadata": {},
   "outputs": [],
   "source": [
    "sess = tf.InteractiveSession()\n",
    "generator = batch_generator(batch_size=512, sequence_length=100)"
   ]
  },
  {
   "cell_type": "code",
   "execution_count": null,
   "metadata": {},
   "outputs": [],
   "source": [
    "model = Sequential()\n",
    "model.add(GRU(units=1024, return_sequences=True, input_shape=(None, x_dim,)))\n",
    "model.add(GRU(units=1024, return_sequences=True))\n",
    "model.add(Dense(y_dim, activation='linear'))"
   ]
  },
  {
   "cell_type": "code",
   "execution_count": null,
   "metadata": {},
   "outputs": [],
   "source": [
    "# model = Sequential()\n",
    "# model.add(Bidirectional(GRU(units=1024, return_sequences=True), merge_mode='ave',input_shape=(None, x_dim,)))\n",
    "# model.add(Dense(y_dim, activation='linear'))         "
   ]
  },
  {
   "cell_type": "code",
   "execution_count": null,
   "metadata": {},
   "outputs": [],
   "source": [
    "warmup_steps = 0"
   ]
  },
  {
   "cell_type": "markdown",
   "metadata": {},
   "source": [
    "### Compile the Model"
   ]
  },
  {
   "cell_type": "code",
   "execution_count": null,
   "metadata": {
    "scrolled": false
   },
   "outputs": [
    {
     "name": "stdout",
     "output_type": "stream",
     "text": [
      "_________________________________________________________________\n",
      "Layer (type)                 Output Shape              Param #   \n",
      "=================================================================\n",
      "gru (GRU)                    (None, None, 1024)        3164160   \n",
      "_________________________________________________________________\n",
      "gru_1 (GRU)                  (None, None, 1024)        6294528   \n",
      "_________________________________________________________________\n",
      "dense (Dense)                (None, None, 2)           2050      \n",
      "=================================================================\n",
      "Total params: 9,460,738\n",
      "Trainable params: 9,460,738\n",
      "Non-trainable params: 0\n",
      "_________________________________________________________________\n"
     ]
    }
   ],
   "source": [
    "optimizer = RMSprop(lr=1e-3)\n",
    "model.compile(loss=custom_loss, optimizer=optimizer)\n",
    "model.summary()"
   ]
  },
  {
   "cell_type": "code",
   "execution_count": null,
   "metadata": {},
   "outputs": [],
   "source": [
    "# path_checkpoint = '23_checkpoint.keras'\n",
    "# callback_checkpoint = ModelCheckpoint(filepath=path_checkpoint,\n",
    "#                                       monitor='val_loss',\n",
    "#                                       verbose=1,\n",
    "#                                       save_weights_only=True,\n",
    "#                                       save_best_only=True)\n",
    "callback_early_stopping = EarlyStopping(monitor='val_loss',\n",
    "                                        patience=3, verbose=1)\n",
    "# callback_tensorboard = TensorBoard(log_dir='./23_logs/',\n",
    "#                                    histogram_freq=0,\n",
    "#                                    write_graph=False)\n",
    "callback_reduce_lr = ReduceLROnPlateau(monitor='val_loss',\n",
    "                                       factor=0.1,\n",
    "                                       min_lr=1e-5,\n",
    "                                       patience=0,\n",
    "                                       verbose=1)       \n",
    "plot_losses = PlotLosses()\n",
    "\n",
    "callbacks = [callback_early_stopping,\n",
    "#              callback_checkpoint,\n",
    "#              callback_tensorboard,\n",
    "             plot_losses,\n",
    "             callback_reduce_lr]\n"
   ]
  },
  {
   "cell_type": "markdown",
   "metadata": {},
   "source": [
    "## Train the Model\n",
    " - Choose the maximum amount of epochs\n",
    " - How many batches of the data per epoch"
   ]
  },
  {
   "cell_type": "code",
   "execution_count": null,
   "metadata": {
    "scrolled": false
   },
   "outputs": [
    {
     "data": {
      "image/png": "[encoded data removed]",
      "text/html": [
       "\n",
       "\n",
       "<style>\n",
       "\n",
       "</style>\n",
       "\n",
       "<div id=\"fig_el428021403829584381047186440409\"></div>\n",
       "<script>\n",
       "function mpld3_load_lib(url, callback){\n",
       "  var s = document.createElement('script');\n",
       "  s.src = url;\n",
       "  s.async = true;\n",
       "  s.onreadystatechange = s.onload = callback;\n",
       "  s.onerror = function(){console.warn(\"failed to load library \" + url);};\n",
       "  document.getElementsByTagName(\"head\")[0].appendChild(s);\n",
       "}\n",
       "\n",
       "if(typeof(mpld3) !== \"undefined\" && mpld3._mpld3IsLoaded){\n",
       "   // already loaded: just create the figure\n",
       "   !function(mpld3){\n",
       "       \n",
       "       mpld3.draw_figure(\"fig_el428021403829584381047186440409\", {\"width\": 720.0, \"height\": 576.0, \"axes\": [{\"bbox\": [0.125, 0.125, 0.775, 0.755], \"xlim\": [-0.1, 2.1], \"ylim\": [-1.359401950120926, 58.64356226372719], \"xdomain\": [-0.1, 2.1], \"ydomain\": [-1.359401950120926, 58.64356226372719], \"xscale\": \"linear\", \"yscale\": \"linear\", \"axes\": [{\"position\": \"bottom\", \"nticks\": 11, \"tickvalues\": null, \"tickformat\": null, \"scale\": \"linear\", \"fontsize\": 10.0, \"grid\": {\"gridOn\": false}, \"visible\": true}, {\"position\": \"left\", \"nticks\": 8, \"tickvalues\": null, \"tickformat\": null, \"scale\": \"linear\", \"fontsize\": 10.0, \"grid\": {\"gridOn\": false}, \"visible\": true}], \"axesbg\": \"#FFFFFF\", \"axesbgalpha\": null, \"zoomable\": true, \"id\": \"el42802140382958439056\", \"lines\": [{\"data\": \"data01\", \"xindex\": 0, \"yindex\": 1, \"coordinates\": \"data\", \"id\": \"el42802140382957997304\", \"color\": \"#1F77B4\", \"linewidth\": 1.5, \"dasharray\": \"none\", \"alpha\": 1, \"zorder\": 2, \"drawstyle\": \"default\"}, {\"data\": \"data01\", \"xindex\": 0, \"yindex\": 2, \"coordinates\": \"data\", \"id\": \"el42802140382957997640\", \"color\": \"#FF7F0E\", \"linewidth\": 1.5, \"dasharray\": \"none\", \"alpha\": 1, \"zorder\": 2, \"drawstyle\": \"default\"}, {\"data\": \"data02\", \"xindex\": 0, \"yindex\": 1, \"coordinates\": \"axes\", \"id\": \"el42802140382958041016\", \"color\": \"#1F77B4\", \"linewidth\": 1.5, \"dasharray\": \"none\", \"alpha\": 1, \"zorder\": 1000002.0, \"drawstyle\": \"default\"}, {\"data\": \"data02\", \"xindex\": 0, \"yindex\": 2, \"coordinates\": \"axes\", \"id\": \"el42802140382958042080\", \"color\": \"#FF7F0E\", \"linewidth\": 1.5, \"dasharray\": \"none\", \"alpha\": 1, \"zorder\": 1000002.0, \"drawstyle\": \"default\"}], \"paths\": [{\"data\": \"data03\", \"xindex\": 0, \"yindex\": 1, \"coordinates\": \"axes\", \"pathcodes\": [\"M\", \"L\", \"S\", \"L\", \"S\", \"L\", \"S\", \"L\", \"S\", \"Z\"], \"id\": \"el42802140382958039952\", \"dasharray\": \"none\", \"alpha\": 0.8, \"facecolor\": \"#FFFFFF\", \"edgecolor\": \"#CCCCCC\", \"edgewidth\": 1.0, \"zorder\": 1000000.0}], \"markers\": [], \"texts\": [{\"text\": \"loss\", \"position\": [0.9135304659498208, 0.9609087564385577], \"coordinates\": \"axes\", \"h_anchor\": \"start\", \"v_baseline\": \"auto\", \"rotation\": -0.0, \"fontsize\": 10.0, \"color\": \"#000000\", \"alpha\": 1, \"zorder\": 1000003.0, \"id\": \"el42802140382958040512\"}, {\"text\": \"val_loss\", \"position\": [0.9135304659498208, 0.9264164827078734], \"coordinates\": \"axes\", \"h_anchor\": \"start\", \"v_baseline\": \"auto\", \"rotation\": -0.0, \"fontsize\": 10.0, \"color\": \"#000000\", \"alpha\": 1, \"zorder\": 1000003.0, \"id\": \"el42802140382958041632\"}], \"collections\": [], \"images\": [], \"sharex\": [], \"sharey\": []}], \"data\": {\"data01\": [[0.0, 55.91615479946137, 2.0828418731689453], [1.0, 22.104556727409364, 1.9324488639831543], [2.0, 17.181628069877625, 1.3680055141448975]], \"data02\": [[0.8633512544802867, 0.968956953642384, 0.9344646799116997], [0.8991935483870968, 0.968956953642384, 0.9344646799116997]], \"data03\": [[0.8597670250896058, 0.9105356650110374], [0.9874551971326165, 0.9105356650110374], [0.9910394265232975, 0.9105356650110374], [0.9910394265232975, 0.9151346348417955], [0.9910394265232975, 0.9839036055923474], [0.9910394265232975, 0.9885025754231052], [0.9874551971326165, 0.9885025754231052], [0.8597670250896058, 0.9885025754231052], [0.8561827956989249, 0.9885025754231052], [0.8561827956989249, 0.9839036055923474], [0.8561827956989249, 0.9151346348417955], [0.8561827956989249, 0.9105356650110374], [0.8597670250896058, 0.9105356650110374]]}, \"id\": \"el42802140382958438104\", \"plugins\": [{\"type\": \"reset\"}, {\"type\": \"zoom\", \"button\": true, \"enabled\": false}, {\"type\": \"boxzoom\", \"button\": true, \"enabled\": false}]});\n",
       "   }(mpld3);\n",
       "}else if(typeof define === \"function\" && define.amd){\n",
       "   // require.js is available: use it to load d3/mpld3\n",
       "   require.config({paths: {d3: \"https://mpld3.github.io/js/d3.v3.min\"}});\n",
       "   require([\"d3\"], function(d3){\n",
       "      window.d3 = d3;\n",
       "      mpld3_load_lib(\"https://mpld3.github.io/js/mpld3.v0.3.js\", function(){\n",
       "         \n",
       "         mpld3.draw_figure(\"fig_el428021403829584381047186440409\", {\"width\": 720.0, \"height\": 576.0, \"axes\": [{\"bbox\": [0.125, 0.125, 0.775, 0.755], \"xlim\": [-0.1, 2.1], \"ylim\": [-1.359401950120926, 58.64356226372719], \"xdomain\": [-0.1, 2.1], \"ydomain\": [-1.359401950120926, 58.64356226372719], \"xscale\": \"linear\", \"yscale\": \"linear\", \"axes\": [{\"position\": \"bottom\", \"nticks\": 11, \"tickvalues\": null, \"tickformat\": null, \"scale\": \"linear\", \"fontsize\": 10.0, \"grid\": {\"gridOn\": false}, \"visible\": true}, {\"position\": \"left\", \"nticks\": 8, \"tickvalues\": null, \"tickformat\": null, \"scale\": \"linear\", \"fontsize\": 10.0, \"grid\": {\"gridOn\": false}, \"visible\": true}], \"axesbg\": \"#FFFFFF\", \"axesbgalpha\": null, \"zoomable\": true, \"id\": \"el42802140382958439056\", \"lines\": [{\"data\": \"data01\", \"xindex\": 0, \"yindex\": 1, \"coordinates\": \"data\", \"id\": \"el42802140382957997304\", \"color\": \"#1F77B4\", \"linewidth\": 1.5, \"dasharray\": \"none\", \"alpha\": 1, \"zorder\": 2, \"drawstyle\": \"default\"}, {\"data\": \"data01\", \"xindex\": 0, \"yindex\": 2, \"coordinates\": \"data\", \"id\": \"el42802140382957997640\", \"color\": \"#FF7F0E\", \"linewidth\": 1.5, \"dasharray\": \"none\", \"alpha\": 1, \"zorder\": 2, \"drawstyle\": \"default\"}, {\"data\": \"data02\", \"xindex\": 0, \"yindex\": 1, \"coordinates\": \"axes\", \"id\": \"el42802140382958041016\", \"color\": \"#1F77B4\", \"linewidth\": 1.5, \"dasharray\": \"none\", \"alpha\": 1, \"zorder\": 1000002.0, \"drawstyle\": \"default\"}, {\"data\": \"data02\", \"xindex\": 0, \"yindex\": 2, \"coordinates\": \"axes\", \"id\": \"el42802140382958042080\", \"color\": \"#FF7F0E\", \"linewidth\": 1.5, \"dasharray\": \"none\", \"alpha\": 1, \"zorder\": 1000002.0, \"drawstyle\": \"default\"}], \"paths\": [{\"data\": \"data03\", \"xindex\": 0, \"yindex\": 1, \"coordinates\": \"axes\", \"pathcodes\": [\"M\", \"L\", \"S\", \"L\", \"S\", \"L\", \"S\", \"L\", \"S\", \"Z\"], \"id\": \"el42802140382958039952\", \"dasharray\": \"none\", \"alpha\": 0.8, \"facecolor\": \"#FFFFFF\", \"edgecolor\": \"#CCCCCC\", \"edgewidth\": 1.0, \"zorder\": 1000000.0}], \"markers\": [], \"texts\": [{\"text\": \"loss\", \"position\": [0.9135304659498208, 0.9609087564385577], \"coordinates\": \"axes\", \"h_anchor\": \"start\", \"v_baseline\": \"auto\", \"rotation\": -0.0, \"fontsize\": 10.0, \"color\": \"#000000\", \"alpha\": 1, \"zorder\": 1000003.0, \"id\": \"el42802140382958040512\"}, {\"text\": \"val_loss\", \"position\": [0.9135304659498208, 0.9264164827078734], \"coordinates\": \"axes\", \"h_anchor\": \"start\", \"v_baseline\": \"auto\", \"rotation\": -0.0, \"fontsize\": 10.0, \"color\": \"#000000\", \"alpha\": 1, \"zorder\": 1000003.0, \"id\": \"el42802140382958041632\"}], \"collections\": [], \"images\": [], \"sharex\": [], \"sharey\": []}], \"data\": {\"data01\": [[0.0, 55.91615479946137, 2.0828418731689453], [1.0, 22.104556727409364, 1.9324488639831543], [2.0, 17.181628069877625, 1.3680055141448975]], \"data02\": [[0.8633512544802867, 0.968956953642384, 0.9344646799116997], [0.8991935483870968, 0.968956953642384, 0.9344646799116997]], \"data03\": [[0.8597670250896058, 0.9105356650110374], [0.9874551971326165, 0.9105356650110374], [0.9910394265232975, 0.9105356650110374], [0.9910394265232975, 0.9151346348417955], [0.9910394265232975, 0.9839036055923474], [0.9910394265232975, 0.9885025754231052], [0.9874551971326165, 0.9885025754231052], [0.8597670250896058, 0.9885025754231052], [0.8561827956989249, 0.9885025754231052], [0.8561827956989249, 0.9839036055923474], [0.8561827956989249, 0.9151346348417955], [0.8561827956989249, 0.9105356650110374], [0.8597670250896058, 0.9105356650110374]]}, \"id\": \"el42802140382958438104\", \"plugins\": [{\"type\": \"reset\"}, {\"type\": \"zoom\", \"button\": true, \"enabled\": false}, {\"type\": \"boxzoom\", \"button\": true, \"enabled\": false}]});\n",
       "      });\n",
       "    });\n",
       "}else{\n",
       "    // require.js not available: dynamically load d3 & mpld3\n",
       "    mpld3_load_lib(\"https://mpld3.github.io/js/d3.v3.min.js\", function(){\n",
       "         mpld3_load_lib(\"https://mpld3.github.io/js/mpld3.v0.3.js\", function(){\n",
       "                 \n",
       "                 mpld3.draw_figure(\"fig_el428021403829584381047186440409\", {\"width\": 720.0, \"height\": 576.0, \"axes\": [{\"bbox\": [0.125, 0.125, 0.775, 0.755], \"xlim\": [-0.1, 2.1], \"ylim\": [-1.359401950120926, 58.64356226372719], \"xdomain\": [-0.1, 2.1], \"ydomain\": [-1.359401950120926, 58.64356226372719], \"xscale\": \"linear\", \"yscale\": \"linear\", \"axes\": [{\"position\": \"bottom\", \"nticks\": 11, \"tickvalues\": null, \"tickformat\": null, \"scale\": \"linear\", \"fontsize\": 10.0, \"grid\": {\"gridOn\": false}, \"visible\": true}, {\"position\": \"left\", \"nticks\": 8, \"tickvalues\": null, \"tickformat\": null, \"scale\": \"linear\", \"fontsize\": 10.0, \"grid\": {\"gridOn\": false}, \"visible\": true}], \"axesbg\": \"#FFFFFF\", \"axesbgalpha\": null, \"zoomable\": true, \"id\": \"el42802140382958439056\", \"lines\": [{\"data\": \"data01\", \"xindex\": 0, \"yindex\": 1, \"coordinates\": \"data\", \"id\": \"el42802140382957997304\", \"color\": \"#1F77B4\", \"linewidth\": 1.5, \"dasharray\": \"none\", \"alpha\": 1, \"zorder\": 2, \"drawstyle\": \"default\"}, {\"data\": \"data01\", \"xindex\": 0, \"yindex\": 2, \"coordinates\": \"data\", \"id\": \"el42802140382957997640\", \"color\": \"#FF7F0E\", \"linewidth\": 1.5, \"dasharray\": \"none\", \"alpha\": 1, \"zorder\": 2, \"drawstyle\": \"default\"}, {\"data\": \"data02\", \"xindex\": 0, \"yindex\": 1, \"coordinates\": \"axes\", \"id\": \"el42802140382958041016\", \"color\": \"#1F77B4\", \"linewidth\": 1.5, \"dasharray\": \"none\", \"alpha\": 1, \"zorder\": 1000002.0, \"drawstyle\": \"default\"}, {\"data\": \"data02\", \"xindex\": 0, \"yindex\": 2, \"coordinates\": \"axes\", \"id\": \"el42802140382958042080\", \"color\": \"#FF7F0E\", \"linewidth\": 1.5, \"dasharray\": \"none\", \"alpha\": 1, \"zorder\": 1000002.0, \"drawstyle\": \"default\"}], \"paths\": [{\"data\": \"data03\", \"xindex\": 0, \"yindex\": 1, \"coordinates\": \"axes\", \"pathcodes\": [\"M\", \"L\", \"S\", \"L\", \"S\", \"L\", \"S\", \"L\", \"S\", \"Z\"], \"id\": \"el42802140382958039952\", \"dasharray\": \"none\", \"alpha\": 0.8, \"facecolor\": \"#FFFFFF\", \"edgecolor\": \"#CCCCCC\", \"edgewidth\": 1.0, \"zorder\": 1000000.0}], \"markers\": [], \"texts\": [{\"text\": \"loss\", \"position\": [0.9135304659498208, 0.9609087564385577], \"coordinates\": \"axes\", \"h_anchor\": \"start\", \"v_baseline\": \"auto\", \"rotation\": -0.0, \"fontsize\": 10.0, \"color\": \"#000000\", \"alpha\": 1, \"zorder\": 1000003.0, \"id\": \"el42802140382958040512\"}, {\"text\": \"val_loss\", \"position\": [0.9135304659498208, 0.9264164827078734], \"coordinates\": \"axes\", \"h_anchor\": \"start\", \"v_baseline\": \"auto\", \"rotation\": -0.0, \"fontsize\": 10.0, \"color\": \"#000000\", \"alpha\": 1, \"zorder\": 1000003.0, \"id\": \"el42802140382958041632\"}], \"collections\": [], \"images\": [], \"sharex\": [], \"sharey\": []}], \"data\": {\"data01\": [[0.0, 55.91615479946137, 2.0828418731689453], [1.0, 22.104556727409364, 1.9324488639831543], [2.0, 17.181628069877625, 1.3680055141448975]], \"data02\": [[0.8633512544802867, 0.968956953642384, 0.9344646799116997], [0.8991935483870968, 0.968956953642384, 0.9344646799116997]], \"data03\": [[0.8597670250896058, 0.9105356650110374], [0.9874551971326165, 0.9105356650110374], [0.9910394265232975, 0.9105356650110374], [0.9910394265232975, 0.9151346348417955], [0.9910394265232975, 0.9839036055923474], [0.9910394265232975, 0.9885025754231052], [0.9874551971326165, 0.9885025754231052], [0.8597670250896058, 0.9885025754231052], [0.8561827956989249, 0.9885025754231052], [0.8561827956989249, 0.9839036055923474], [0.8561827956989249, 0.9151346348417955], [0.8561827956989249, 0.9105356650110374], [0.8597670250896058, 0.9105356650110374]]}, \"id\": \"el42802140382958438104\", \"plugins\": [{\"type\": \"reset\"}, {\"type\": \"zoom\", \"button\": true, \"enabled\": false}, {\"type\": \"boxzoom\", \"button\": true, \"enabled\": false}]});\n",
       "            })\n",
       "         });\n",
       "}\n",
       "</script>"
      ],
      "text/plain": [
       "<Figure size 720x576 with 1 Axes>"
      ]
     },
     "metadata": {
      "needs_background": "light"
     },
     "output_type": "display_data"
    },
    {
     "name": "stdout",
     "output_type": "stream",
     "text": [
      "100/100 [==============================] - 68s 681ms/step - loss: 17.1816 - val_loss: 1.3680\n",
      "Epoch 4/30\n",
      " 99/100 [============================>.] - ETA: 0s - loss: 14.8089"
     ]
    }
   ],
   "source": [
    "%%time\n",
    "# model.fit(np.expand_dims(scaled_training_data, axis=0), np.expand_dims(scaled_training_labels, axis=0), epochs=10, \n",
    "#           batch_size=32, validation_data=validation_data, callbacks=callbacks)\n",
    "model.fit_generator(generator=generator,\n",
    "                    epochs=30,\n",
    "                    steps_per_epoch=100, #Number of batches per epoch\n",
    "                    validation_data=validation_data,\n",
    "                    callbacks=callbacks)"
   ]
  },
  {
   "cell_type": "markdown",
   "metadata": {},
   "source": [
    "## Evaluate Model on Test Data"
   ]
  },
  {
   "cell_type": "code",
   "execution_count": null,
   "metadata": {},
   "outputs": [],
   "source": [
    "result = model.evaluate(x=np.expand_dims(norm_test_data, axis=0),\n",
    "                        y=np.expand_dims(norm_test_labels, axis=0))\n",
    "print(\"loss (test-set):\", result)"
   ]
  },
  {
   "cell_type": "code",
   "execution_count": null,
   "metadata": {
    "scrolled": false
   },
   "outputs": [],
   "source": [
    "%matplotlib notebook\n",
    "plot_comparison('data5.csv', train_percentage=0.0)"
   ]
  },
  {
   "cell_type": "code",
   "execution_count": null,
   "metadata": {
    "scrolled": false
   },
   "outputs": [],
   "source": [
    "plot_comparison('uni.csv', train_percentage=0.85)"
   ]
  },
  {
   "cell_type": "markdown",
   "metadata": {},
   "source": [
    "## Reset Tensorflow Graph"
   ]
  },
  {
   "cell_type": "code",
   "execution_count": null,
   "metadata": {},
   "outputs": [],
   "source": [
    "tf.reset_default_graph()\n",
    "sess.close()"
   ]
  },
  {
   "cell_type": "code",
   "execution_count": null,
   "metadata": {},
   "outputs": [],
   "source": []
  },
  {
   "cell_type": "code",
   "execution_count": null,
   "metadata": {},
   "outputs": [],
   "source": []
  },
  {
   "cell_type": "code",
   "execution_count": null,
   "metadata": {},
   "outputs": [],
   "source": []
  }
 ],
 "metadata": {
  "kernelspec": {
   "display_name": "Python 3",
   "language": "python",
   "name": "python3"
  },
  "language_info": {
   "codemirror_mode": {
    "name": "ipython",
    "version": 3
   },
   "file_extension": ".py",
   "mimetype": "text/x-python",
   "name": "python",
   "nbconvert_exporter": "python",
   "pygments_lexer": "ipython3",
   "version": "3.6.8"
  }
 },
 "nbformat": 4,
 "nbformat_minor": 2
}
