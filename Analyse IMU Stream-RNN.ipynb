{
 "cells": [
  {
   "cell_type": "code",
   "execution_count": 1,
   "metadata": {},
   "outputs": [],
   "source": [
    "import numpy as np\n",
    "import matplotlib\n",
    "from matplotlib import pyplot as plt\n",
    "from scipy import integrate\n",
    "from scipy import interpolate\n",
    "import math\n",
    "from scipy import signal\n"
   ]
  },
  {
   "cell_type": "code",
   "execution_count": 27,
   "metadata": {},
   "outputs": [
    {
     "name": "stdout",
     "output_type": "stream",
     "text": [
      "Random starting synaptic weights: \n",
      "[[-0.16595599]\n",
      " [ 0.44064899]\n",
      " [-0.99977125]]\n",
      "New synaptic weights after training: \n",
      "[[ 4.62128737]\n",
      " [-0.20338466]\n",
      " [-2.09325311]]\n",
      "Considering new situation [1, 0, 0] -> ?: \n",
      "[0.99025576]\n"
     ]
    }
   ],
   "source": [
    "from numpy import exp, array, random, dot\n",
    "\n",
    "\n",
    "class NeuralNetwork():\n",
    "    def __init__(self):\n",
    "        # Seed the random number generator\n",
    "        random.seed(1)\n",
    "\n",
    "        # We model a single neuron, with 3 input connections and 1 output connection.\n",
    "        # We assign random weights to a 3 x 1 matrix, with values in the range -1 to 1\n",
    "        # and mean 0.\n",
    "        self.weights = 2 * random.random((3, 1)) - 1\n",
    "\n",
    "    # The Sigmoid function, which describes an S shaped curve.Normalises to between 0 and 1\n",
    "    def sigmoid(self, x):\n",
    "        return 1 / (1 + exp(-x))\n",
    "\n",
    "    # The derivative/gradient of the Sigmoid function. How confident are we about each weight\n",
    "    def sigmoid_derivative(self, x):\n",
    "        return x * (1 - x)\n",
    "\n",
    "    def train(self, training_in, training_out, iters):\n",
    "        for iteration in range(iters):\n",
    "            \n",
    "            output = self.think(training_set_inputs)\n",
    "\n",
    "            # Calculate the error\n",
    "            error = training_set_outputs - output\n",
    "\n",
    "            adjustment = dot(training_in.T, error * self.sigmoid_derivative(output))\n",
    "\n",
    "            # Adjust the weights.\n",
    "            self.weights += adjustment\n",
    "\n",
    "    # The neural network thinks.\n",
    "    def think(self, inputs):\n",
    "        return self.sigmoid(dot(inputs, self.weights))\n",
    "\n",
    "\n",
    "\n",
    "neural_network = NeuralNetwork()\n",
    "\n",
    "print(\"Random starting synaptic weights: \")\n",
    "print(neural_network.weights)\n",
    "\n",
    "training_in = array([[0, 0, 1], \n",
    "                     [1, 1, 1], \n",
    "                     [1, 0, 1], \n",
    "                     [0, 1, 1]])\n",
    "\n",
    "training_out = array([[0, 1, 1, 0]]).T\n",
    "\n",
    "neural_network.train(training_in, training_out, 100)\n",
    "\n",
    "print(\"New synaptic weights after training: \")\n",
    "print(neural_network.weights)\n",
    "\n",
    "# Test the neural network with a new situation.\n",
    "print(\"Considering new situation [1, 0, 0] -> ?: \")\n",
    "print(neural_network.think(array([1, 0, 0])))"
   ]
  },
  {
   "cell_type": "code",
   "execution_count": null,
   "metadata": {},
   "outputs": [],
   "source": []
  },
  {
   "cell_type": "code",
   "execution_count": null,
   "metadata": {},
   "outputs": [],
   "source": []
  }
 ],
 "metadata": {
  "kernelspec": {
   "display_name": "Python 3",
   "language": "python",
   "name": "python3"
  },
  "language_info": {
   "codemirror_mode": {
    "name": "ipython",
    "version": 3
   },
   "file_extension": ".py",
   "mimetype": "text/x-python",
   "name": "python",
   "nbconvert_exporter": "python",
   "pygments_lexer": "ipython3",
   "version": "3.7.0"
  }
 },
 "nbformat": 4,
 "nbformat_minor": 2
}
